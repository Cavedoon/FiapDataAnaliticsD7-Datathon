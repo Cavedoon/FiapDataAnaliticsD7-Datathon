{
 "cells": [
  {
   "cell_type": "markdown",
   "id": "4965aa40",
   "metadata": {},
   "source": [
    "# FiapDataAnalyticsD7 - Datathon\n",
    "\n",
    "Este projeto tem como objetivo desenvolver um **sistema de recomendação inteligente** para vagas de emprego, utilizando técnicas de inteligência artificial para analisar os pré-requisitos das vagas e os perfis dos candidatos, buscando identificar o melhor *match* entre ambos.\n",
    "\n",
    "## Estrutura da Base de Dados\n",
    "\n",
    "A base fornecida pelo desafio é composta por:\n",
    "\n",
    "- **Perfil dos Aplicantes:**  \n",
    "  Dicionário com informações estruturadas e textos livres (raw) sobre os candidatos.\n",
    "- **Características das Vagas:**  \n",
    "  Dicionário com os pré-requisitos e detalhes das vagas disponíveis.\n",
    "- **Lista de Aplicantes por Vaga:**  \n",
    "  Dicionário relacionando candidatos a cada vaga, incluindo detalhes sobre selecionados e alinhamento inicial.\n",
    "\n",
    "## Critérios de Recomendação\n",
    "\n",
    "A recomendação de vagas considera múltiplos fatores, como:\n",
    "\n",
    "- Habilidades técnicas e comportamentais\n",
    "- Conhecimentos específicos\n",
    "- Similaridade cultural entre empresa e candidato\n",
    "\n",
    "Esses critérios são avaliados para garantir maior assertividade na indicação dos candidatos mais alinhados ao perfil buscado pelas empresas.\n",
    "\n",
    "---\n",
    "\n",
    "**Integrantes do Grupo:**\n",
    "\n",
    "- Marlon Fernandez  \n",
    "- Roberto Muller - rm353491\n",
    "\n",
    "---\n",
    "\n",
    "🔗 **Acesse o dashboard do projeto:**  \n",
    "[Dashboard](https://fiapda07grupo13.streamlit.app/)\n"
   ]
  },
  {
   "cell_type": "markdown",
   "id": "0b4909b3",
   "metadata": {},
   "source": [
    "## 1. Introdução e objetivo trabalho"
   ]
  },
  {
   "cell_type": "markdown",
   "id": "bcf3eee5",
   "metadata": {},
   "source": [
    "### 1.1 Imports"
   ]
  },
  {
   "cell_type": "code",
   "execution_count": null,
   "id": "d5cfd63e",
   "metadata": {},
   "outputs": [
    {
     "name": "stderr",
     "output_type": "stream",
     "text": [
      "c:\\Users\\Rober\\OneDrive\\Documentos\\FIAP-AW_Roberto\\Modulos\\.venv\\Lib\\site-packages\\tqdm\\auto.py:21: TqdmWarning: IProgress not found. Please update jupyter and ipywidgets. See https://ipywidgets.readthedocs.io/en/stable/user_install.html\n",
      "  from .autonotebook import tqdm as notebook_tqdm\n"
     ]
    }
   ],
   "source": [
    "# pip install langdetect googletrans==4.0.0rc1\n",
    "# pip install transformers sentencepiece torch\n",
    "# pip install tqdm\n",
    "import json\n",
    "import pandas as pd\n",
    "import numpy as np\n",
    "import matplotlib.pyplot as plt\n",
    "from sentence_transformers import SentenceTransformer\n",
    "from sklearn.metrics.pairwise import cosine_similarity\n",
    "from scipy.stats import ttest_ind\n",
    "from sklearn.model_selection import train_test_split\n",
    "from sklearn.ensemble import RandomForestClassifier\n",
    "from sklearn.metrics import classification_report, roc_auc_score, confusion_matrix, roc_curve\n",
    "from sklearn.metrics import precision_recall_curve, f1_score\n",
    "from tqdm import tqdm\n",
    "import joblib\n",
    "import pickle\n",
    "import re\n",
    "from transformers import MarianMTModel, MarianTokenizer\n",
    "import langid\n",
    "from collections import Counter\n",
    "\n",
    "\n",
    "import warnings\n",
    "warnings.filterwarnings(\"ignore\")"
   ]
  },
  {
   "cell_type": "markdown",
   "id": "fac265cb",
   "metadata": {},
   "source": [
    "### 1.2 Extruturação dos dados "
   ]
  },
  {
   "cell_type": "markdown",
   "id": "562afb1d",
   "metadata": {},
   "source": [
    "Durante o processo de deploy da base no ambiente Streamlit, foram identificados problemas de performance e execução ao carregar a base completa de candidatos para treinamento.\n",
    "\n",
    "Após análise das alternativas, a equipe optou por utilizar um subset dos dados no ambiente de produção, o que solucionou os problemas de performance sem prejudicar a acurácia do modelo.\n",
    "\n",
    "Abaixo está a chave que permite alternar o carregamento dos dados entre arquivos locais e arquivos em nuvem, facilitando a adaptação do processamento conforme o ambiente de execução."
   ]
  },
  {
   "cell_type": "markdown",
   "id": "4875b42f",
   "metadata": {},
   "source": [
    "#### 1.2.1 Definido fonta dos dados"
   ]
  },
  {
   "cell_type": "markdown",
   "id": "88535431",
   "metadata": {},
   "source": [
    "A variável `$MODO_LOCAL` é definida a origem dos arquivos utilizados para rodar o código:\n",
    "\n",
    "- `1` &rarr; Utiliza arquivos completos e processamento local (ideal para testes e análises aprofundadas).\n",
    "- `0` &rarr; Utiliza amostras reduzidas para processamento em cloud/MVP DEMO (otimiza performance no ambiente de produção).\n",
    "\n",
    "Essa chave facilita a alternância entre diferentes ambientes de execução, garantindo flexibilidade e eficiência no processamento dos dados.\n"
   ]
  },
  {
   "cell_type": "code",
   "execution_count": null,
   "id": "c02a1ea6",
   "metadata": {},
   "outputs": [],
   "source": [
    "MODO_LOCAL = 0\n",
    "# 1 Local\n",
    "# 0 Cloud/MVP DEMO"
   ]
  },
  {
   "cell_type": "markdown",
   "id": "31ede177",
   "metadata": {},
   "source": [
    "#### 1.2.2 Gerando samples de canditados"
   ]
  },
  {
   "cell_type": "markdown",
   "id": "ee1beabe",
   "metadata": {},
   "source": [
    "As funções abaixo realizam o carregamento das bases de candidatos (aplicantes) e vagas, filtrando apenas registros válidos. Dessa forma, é gerada uma amostra estruturada com até 5.000 linhas, garantindo qualidade e eficiência para o processamento e treinamento do modelo."
   ]
  },
  {
   "cell_type": "code",
   "execution_count": null,
   "id": "180d161d",
   "metadata": {},
   "outputs": [],
   "source": [
    "def entrada_valida(candidato):\n",
    "    if not isinstance(candidato, dict):\n",
    "        return False\n",
    "    cv = candidato.get('cv_pt', '')\n",
    "    nome = candidato.get('infos_basicas', {}).get('nome', '')\n",
    "    return bool(cv and cv.strip()) and bool(nome and nome.strip())\n",
    "\n",
    "with open('applicants.json', encoding='utf-8') as f:\n",
    "    data = json.load(f)\n",
    "\n",
    "validos = {k: v for k, v in data.items() if entrada_valida(v)}\n",
    "amostra = dict(list(validos.items())[:5000])\n",
    "\n",
    "with open('applicants_sample.json', 'w', encoding='utf-8') as f:\n",
    "    json.dump(amostra, f, ensure_ascii=False, indent=2)\n",
    "\n",
    "def vaga_valida(vaga):\n",
    "    titulo = vaga.get('informacoes_basicas', {}).get('titulo_vaga', '')\n",
    "    perfil = vaga.get('perfil_vaga', {})\n",
    "    return bool(titulo and titulo.strip()) and bool(perfil)\n",
    "\n",
    "with open('vagas.json', encoding='utf-8') as f:\n",
    "    data = json.load(f)\n",
    "\n",
    "validos = {k: v for k, v in data.items() if vaga_valida(v)}\n",
    "amostra = dict(list(validos.items())[:5000])\n",
    "with open(r'C:\\Users\\Rober\\OneDrive\\Documentos\\FIAP-AW_Roberto\\Modulos\\Projeto\\Tech Challenge 5\\vagas\\vagas_sample.json', 'w', encoding='utf-8') as f:\n",
    "    json.dump(amostra, f, ensure_ascii=False, indent=2)"
   ]
  },
  {
   "cell_type": "markdown",
   "id": "e783d69b",
   "metadata": {},
   "source": [
    "#### 1.2.3 Carregando base"
   ]
  },
  {
   "cell_type": "markdown",
   "id": "f40a6571",
   "metadata": {},
   "source": [
    "Vamos agora ler os arquivos disponibilizados para começar a explorar os dados e entender sua estrutura:"
   ]
  },
  {
   "cell_type": "code",
   "execution_count": null,
   "id": "312242f3",
   "metadata": {},
   "outputs": [
    {
     "name": "stdout",
     "output_type": "stream",
     "text": [
      "Carregando base de candidatos de C:\\Users\\Rober\\OneDrive\\Documentos\\FIAP-AW_Roberto\\Modulos\\Projeto\\Tech Challenge 5\\applicants\\applicants_sample.json\n",
      "Applicants - quantidade de candidatos: 5000\n",
      "Prospects - quantidade de vagas: 14222\n",
      "Vagas - quantidade de vagas: 14081\n"
     ]
    }
   ],
   "source": [
    "if MODO_LOCAL:\n",
    "    path_applicants = 'applicants.json'\n",
    "    path_prospects = 'prospects.json'\n",
    "    path_vagas = 'vagas.json'\n",
    "else:\n",
    "    path_applicants = 'applicants_sample.json'\n",
    "    path_prospects = 'prospects.json'\n",
    "    path_vagas = 'vagas.json'\n",
    "\n",
    "print(f'Carregando base de candidatos de {path_applicants}')\n",
    "\n",
    "with open(path_applicants, 'r', encoding='utf-8') as f:\n",
    "    applicants_data = json.load(f)\n",
    "\n",
    "with open(path_prospects, 'r', encoding='utf-8') as f:\n",
    "    prospects_data = json.load(f)\n",
    "\n",
    "with open(path_vagas, 'r', encoding='utf-8') as f:\n",
    "    vagas_data = json.load(f)\n",
    "\n",
    "print(\"Applicants - quantidade de candidatos:\", len(applicants_data))\n",
    "print(\"Prospects - quantidade de vagas:\", len(prospects_data))\n",
    "print(\"Vagas - quantidade de vagas:\", len(vagas_data))\n"
   ]
  },
  {
   "cell_type": "markdown",
   "id": "fd74ca67",
   "metadata": {},
   "source": [
    "Concluímos a leitura do arquivos e identificamos a quantidade de informaçoes carregadas em cada variáveis.\n",
    "\n",
    "Iremos visualizar amostras dos conteúdos gerados"
   ]
  },
  {
   "cell_type": "code",
   "execution_count": null,
   "id": "7fbd3d28",
   "metadata": {},
   "outputs": [
    {
     "name": "stdout",
     "output_type": "stream",
     "text": [
      "\n",
      "--- Exemplo de candidato em applicants ---\n",
      "ID 31000: ['infos_basicas', 'informacoes_pessoais', 'informacoes_profissionais', 'formacao_e_idiomas', 'cargo_atual', 'cv_pt', 'cv_en']\n",
      "ID 31001: ['infos_basicas', 'informacoes_pessoais', 'informacoes_profissionais', 'formacao_e_idiomas', 'cargo_atual', 'cv_pt', 'cv_en']\n",
      "ID 31002: ['infos_basicas', 'informacoes_pessoais', 'informacoes_profissionais', 'formacao_e_idiomas', 'cargo_atual', 'cv_pt', 'cv_en']\n",
      "\n",
      "--- Exemplo de vaga em prospects ---\n",
      "Vaga 4530: CONSULTOR CONTROL M, 2 candidatos\n",
      "  1º prospect: {'nome': 'José Vieira', 'codigo': '25632', 'situacao_candidado': 'Encaminhado ao Requisitante', 'data_candidatura': '25-03-2021', 'ultima_atualizacao': '25-03-2021', 'comentario': 'Encaminhado para  - PJ R$ 72,00/hora', 'recrutador': 'Ana Lívia Moreira'}\n",
      "Vaga 4531: 2021-2607395-PeopleSoft Application Engine-Domain Consultant, 2 candidatos\n",
      "  1º prospect: {'nome': 'Sra. Yasmin Fernandes', 'codigo': '25364', 'situacao_candidado': 'Contratado pela Decision', 'data_candidatura': '17-03-2021', 'ultima_atualizacao': '12-04-2021', 'comentario': 'Data de Inicio: 12/04/2021', 'recrutador': 'Juliana Cassiano'}\n",
      "Vaga 4532: , 0 candidatos\n",
      "\n",
      "--- Exemplo de vaga em vagas ---\n",
      "Vaga 5185: Operation Lead -\n",
      "  Perfil: Operations Lead\n",
      "\n",
      "Roles & Responsibilities:\n",
      "• The Operations Manager is accountable for delivering the run services towards a client or a specific set of clients.\n",
      "• The Operations Manager has a firm wo ...\n",
      "Vaga 5184: Consultor PP/QM Sênior\n",
      "  Perfil: Consultor PP/QM Sr.\n",
      "\n",
      "• Consultor PP/QM Sênior com experiencia em projetos de Rollout e implementação SAP ECC\n",
      "• Inglês mandatório\n",
      "• Remoto (Em alguns momentos / fases do projeto deverá estar presente n ...\n",
      "Vaga 5183: ANALISTA PL/JR C/ SQL\n",
      "  Perfil: Descrição – Atividades:\n",
      "\n",
      "o Monitoramento das interfaces KDP\n",
      "o Monitoramento sistema B2B durante o dia\n",
      "o Monitoramento do Whatsapp durante o dia\n",
      "o Monitoramento da subida de pedidos (KDP, WAE e B2B)\n",
      "o  ...\n"
     ]
    }
   ],
   "source": [
    "# Visualizando amostra de candidatos\n",
    "print(\"\\n--- Exemplo de candidato em applicants ---\")\n",
    "for i, (k, v) in enumerate(applicants_data.items()):\n",
    "    print(f\"ID {k}: {list(v.keys())}\")\n",
    "    if i == 2: break\n",
    "\n",
    "# Visualizando amostra de candidatos em prospects\n",
    "print(\"\\n--- Exemplo de vaga em prospects ---\")\n",
    "for i, (k, v) in enumerate(prospects_data.items()):\n",
    "    print(f\"Vaga {k}: {v['titulo']}, {len(v['prospects'])} candidatos\")\n",
    "    if v['prospects']:\n",
    "        print(\"  1º prospect:\", v['prospects'][0])\n",
    "    if i == 2: break\n",
    "\n",
    "# Visualizando amostra de vagas\n",
    "print(\"\\n--- Exemplo de vaga em vagas ---\")\n",
    "for i, (k, v) in enumerate(vagas_data.items()):\n",
    "    print(f\"Vaga {k}: {v['informacoes_basicas'].get('titulo_vaga')}\")\n",
    "    print(\"  Perfil:\", v['perfil_vaga'].get('principais_atividades', '')[:200], \"...\")\n",
    "    if i == 2: break\n"
   ]
  },
  {
   "cell_type": "code",
   "execution_count": null,
   "id": "f277d568",
   "metadata": {},
   "outputs": [
    {
     "name": "stdout",
     "output_type": "stream",
     "text": [
      "\n",
      "--- Checando correspondência entre prospects e applicants ---\n",
      "De 101 prospects analisados, 9 estão presentes no applicants.json.\n",
      "\n",
      "Distribuição das situações dos candidatos (top 10):\n",
      "[('Prospect', 20021), ('Encaminhado ao Requisitante', 16122), ('Inscrito', 3980), ('Não Aprovado pelo Cliente', 3492), ('Contratado pela Decision', 2758), ('Desistiu', 2349), ('Não Aprovado pelo RH', 1765), ('Não Aprovado pelo Requisitante', 765), ('Entrevista Técnica', 579), ('Sem interesse nesta vaga', 576)]\n"
     ]
    }
   ],
   "source": [
    "# Checando correspondência entre prospects e applicants\n",
    "print(\"\\n--- Checando correspondência entre prospects e applicants ---\")\n",
    "matches = 0\n",
    "checked = 0\n",
    "for vaga_id, vaga in prospects_data.items():\n",
    "    for p in vaga['prospects']:\n",
    "        if p['codigo'] in applicants_data:\n",
    "            matches += 1\n",
    "        checked += 1\n",
    "    if checked > 100: break\n",
    "print(f\"De {checked} prospects analisados, {matches} estão presentes no applicants.json.\")\n",
    "\n",
    "situacoes = []\n",
    "for vaga in prospects_data.values():\n",
    "    for p in vaga['prospects']:\n",
    "        situacoes.append(p.get('situacao_candidado'))\n",
    "print(\"\\nDistribuição das situações dos candidatos (top 10):\")\n",
    "print(Counter(situacoes).most_common(10))"
   ]
  },
  {
   "cell_type": "markdown",
   "id": "b63f44c5",
   "metadata": {},
   "source": [
    "Após confirmarmos que as informações dos aplicantes estão presentes na lista de candidatos prospectados e que possuímos dados suficientes para embasar a decisão de contratação ou avanço no processo seletivo, podemos aprofundar a análise e definir a variável target para incrementar nosso dataframe."
   ]
  },
  {
   "cell_type": "markdown",
   "id": "852b5f61",
   "metadata": {},
   "source": [
    "## 2. Extruturação dos dados "
   ]
  },
  {
   "cell_type": "markdown",
   "id": "11e6a157",
   "metadata": {},
   "source": [
    "#### 2.1 Determinando variável Target"
   ]
  },
  {
   "cell_type": "markdown",
   "id": "151338ff",
   "metadata": {},
   "source": [
    "Entendendo melhor nossa base de dados, precisamos definir como identificar o candidato selecionado para cada vaga.\n",
    "\n",
    "Consideramos como \"Target\" para o processo de treinamento os candidatos prospectados que possuem a situação **'Contratado pela Decision'**, **'Contratado como Hunting'** ou **'Aprovado'**, pois representam perfis aprovados no processo inicial de entrevista."
   ]
  },
  {
   "cell_type": "code",
   "execution_count": null,
   "id": "c3bb8952",
   "metadata": {},
   "outputs": [],
   "source": [
    "labels_sucesso = {'Contratado pela Decision', 'Contratado como Hunting', 'Aprovado'}\n",
    "\n",
    "rows = []\n",
    "for vaga_id, vaga in prospects_data.items():\n",
    "    for p in vaga['prospects']:\n",
    "        row = {\n",
    "            'vaga_id': vaga_id,\n",
    "            'candidato_id': p['codigo'],\n",
    "            'nome_candidato': p['nome'],\n",
    "            'situacao_candidado': p.get('situacao_candidado', None),\n",
    "            'comentario': p.get('comentario', None),\n",
    "            'recrutador': p.get('recrutador', None),\n",
    "            'data_candidatura': p.get('data_candidatura', None),\n",
    "            'ultima_atualizacao': p.get('ultima_atualizacao', None)\n",
    "        }\n",
    "\n",
    "        row['target'] = int(p.get('situacao_candidado', '') in labels_sucesso)\n",
    "        rows.append(row)\n",
    "\n",
    "df = pd.DataFrame(rows)"
   ]
  },
  {
   "cell_type": "markdown",
   "id": "43a2750a",
   "metadata": {},
   "source": [
    "#### 2.1 Resultado da variavel Target"
   ]
  },
  {
   "cell_type": "code",
   "execution_count": null,
   "id": "b5e6e5da",
   "metadata": {},
   "outputs": [
    {
     "name": "stdout",
     "output_type": "stream",
     "text": [
      "Shape do dataframe de pares vaga-candidato: (53759, 9)\n",
      "\n",
      "Proporção de classes (target=1 é sucesso):\n",
      "target\n",
      "0    0.940605\n",
      "1    0.059395\n",
      "Name: proportion, dtype: float64\n",
      "\n",
      "5 primeiras linhas:\n",
      "  vaga_id candidato_id            nome_candidato           situacao_candidado  \\\n",
      "0    4530        25632               José Vieira  Encaminhado ao Requisitante   \n",
      "1    4530        25529  Srta. Isabela Cavalcante  Encaminhado ao Requisitante   \n",
      "2    4531        25364     Sra. Yasmin Fernandes     Contratado pela Decision   \n",
      "3    4531        25360            Alexia Barbosa  Encaminhado ao Requisitante   \n",
      "4    4533        26338            Arthur Almeida     Contratado pela Decision   \n",
      "\n",
      "                                          comentario         recrutador  \\\n",
      "0               Encaminhado para  - PJ R$ 72,00/hora  Ana Lívia Moreira   \n",
      "1  encaminhado para  - R$ 6.000,00 – CLT Full , n...  Ana Lívia Moreira   \n",
      "2                         Data de Inicio: 12/04/2021   Juliana Cassiano   \n",
      "3                                                      Juliana Cassiano   \n",
      "4                                                         Stella Vieira   \n",
      "\n",
      "  data_candidatura ultima_atualizacao  target  \n",
      "0       25-03-2021         25-03-2021       0  \n",
      "1       22-03-2021         23-03-2021       0  \n",
      "2       17-03-2021         12-04-2021       1  \n",
      "3       17-03-2021         17-03-2021       0  \n",
      "4       29-04-2021         18-05-2021       1  \n"
     ]
    }
   ],
   "source": [
    "print(\"Shape do dataframe de pares vaga-candidato:\", df.shape)\n",
    "print(\"\\nProporção de classes (target=1 é sucesso):\")\n",
    "print(df['target'].value_counts(normalize=True))\n",
    "print(\"\\n5 primeiras linhas:\")\n",
    "print(df.head())"
   ]
  },
  {
   "cell_type": "markdown",
   "id": "cb6081fe",
   "metadata": {},
   "source": [
    "Considerando que temos apenas 6% das entradas com o target=1 para trabalharmos, precisaremos balancear isto de alguma forma posteriormente."
   ]
  },
  {
   "cell_type": "code",
   "execution_count": null,
   "id": "6ecf8d08",
   "metadata": {},
   "outputs": [
    {
     "name": "stdout",
     "output_type": "stream",
     "text": [
      "\n",
      "Candidatos por vaga (top 5):\n",
      "vaga_id\n",
      "10898    25\n",
      "9898     25\n",
      "7645     25\n",
      "11554    25\n",
      "7644     25\n",
      "Name: count, dtype: int64\n",
      "\n",
      "Vagas por candidato (top 5):\n",
      "candidato_id\n",
      "833      73\n",
      "1677     70\n",
      "12450    54\n",
      "27660    53\n",
      "16747    45\n",
      "Name: count, dtype: int64\n",
      "\n",
      "Exemplo de registros positivos (target=1):\n",
      "   vaga_id candidato_id         nome_candidato        situacao_candidado  \\\n",
      "2     4531        25364  Sra. Yasmin Fernandes  Contratado pela Decision   \n",
      "4     4533        26338         Arthur Almeida  Contratado pela Decision   \n",
      "16    4535        26338         Arthur Almeida                  Aprovado   \n",
      "22    4535        22977            Lunna Alves  Contratado pela Decision   \n",
      "38    4544        19972     Sr. Miguel Sampaio  Contratado pela Decision   \n",
      "\n",
      "                        comentario         recrutador data_candidatura  \\\n",
      "2       Data de Inicio: 12/04/2021   Juliana Cassiano       17-03-2021   \n",
      "4                                       Stella Vieira       29-04-2021   \n",
      "16  Aprovado para inicio dia 10/05      Stella Vieira       27-04-2021   \n",
      "22                                     Yasmin da Rosa       27-04-2021   \n",
      "38               confirmado inicio  Ana Lívia Moreira       16-03-2021   \n",
      "\n",
      "   ultima_atualizacao  target  \n",
      "2          12-04-2021       1  \n",
      "4          18-05-2021       1  \n",
      "16         28-04-2021       1  \n",
      "22         04-05-2021       1  \n",
      "38         11-05-2021       1  \n"
     ]
    }
   ],
   "source": [
    "print(\"\\nCandidatos por vaga (top 5):\")\n",
    "print(df['vaga_id'].value_counts().head())\n",
    "\n",
    "print(\"\\nVagas por candidato (top 5):\")\n",
    "print(df['candidato_id'].value_counts().head())\n",
    "\n",
    "print(\"\\nExemplo de registros positivos (target=1):\")\n",
    "print(df[df['target'] == 1].head())\n"
   ]
  },
  {
   "cell_type": "markdown",
   "id": "3ec62e43",
   "metadata": {},
   "source": [
    "- O máximo de candidatos por vaga que identificamos é de **25**, o que pode sugerir um valor máximo de candidatos por vaga dentro do processo atual da Decision.\n",
    "\n",
    "- Outro fato que chamou atenção é que, na base de dados, temos candidatos se aplicando para **múltiplas vagas**, alguns com **mais de 70 tentativas**."
   ]
  },
  {
   "cell_type": "markdown",
   "id": "4c85efdf",
   "metadata": {},
   "source": [
    "### 2.2 Criação do dataframe estruturado"
   ]
  },
  {
   "cell_type": "markdown",
   "id": "7143a3dd",
   "metadata": {},
   "source": [
    "Iremos estruturar o DataFrame para treinar o futuro modelo de *Machine Learning*, organizando e extraindo as informações-chave dos candidatos para criar features.\n",
    "\n",
    "O propósito é padronizar a representação de uma vaga. Ao ter tanto os candidatos quanto as vagas representados por dicionários \"planos\" com características bem definidas, conseguiremos criar um **match** de atributos.\n",
    "\n",
    "Criaremos funções para cada banco, definindo informações de candidatos e vagas, levando em consideração:\n",
    "\n",
    "- **Informações Básicas (pessoais)**\n",
    "- **Informações Profissionais**\n",
    "- **Formação e idiomas**\n",
    "\n",
    "O CV do candidato carrega muitas informações em blocos de texto que podem ser importantes, além de conter dados em inglês e português."
   ]
  },
  {
   "cell_type": "markdown",
   "id": "2b1789f1",
   "metadata": {},
   "source": [
    "#### 2.2.1 Criando DataFrame para de candidatos "
   ]
  },
  {
   "cell_type": "code",
   "execution_count": null,
   "id": "ee49ad76",
   "metadata": {},
   "outputs": [],
   "source": [
    "def extract_applicant_features(applicant):\n",
    "    f = {}\n",
    "    # Infos básicas\n",
    "    infos_basicas = applicant.get('infos_basicas', {})\n",
    "    f['sexo'] = infos_basicas.get('sexo')\n",
    "    f['idade'] = infos_basicas.get('idade')\n",
    "    f['estado_civil'] = infos_basicas.get('estado_civil')\n",
    "    \n",
    "    # Informações profissionais\n",
    "    info_prof = applicant.get('informacoes_profissionais', {})\n",
    "    f['area_atuacao'] = info_prof.get('area_atuacao')\n",
    "    f['nivel_profissional'] = info_prof.get('nivel_profissional')\n",
    "    f['tempo_experiencia'] = info_prof.get('tempo_experiencia')\n",
    "    f['ultimo_salario'] = info_prof.get('ultimo_salario')\n",
    "    \n",
    "    # Formação e idiomas\n",
    "    formacao = applicant.get('formacao_e_idiomas', {})\n",
    "    f['nivel_academico'] = formacao.get('nivel_academico')\n",
    "    f['nivel_ingles'] = formacao.get('nivel_ingles')\n",
    "    f['nivel_espanhol'] = formacao.get('nivel_espanhol')\n",
    "    \n",
    "    # Cargo atual\n",
    "    f['cargo_atual'] = applicant.get('cargo_atual')\n",
    "    \n",
    "    # CVs\n",
    "    f['cv_pt'] = applicant.get('cv_pt', '')\n",
    "    f['cv_en'] = applicant.get('cv_en', '')\n",
    "    return f"
   ]
  },
  {
   "cell_type": "markdown",
   "id": "b271c4fd",
   "metadata": {},
   "source": [
    "#### 2.2.2 Criando Dataframe para as vagas"
   ]
  },
  {
   "cell_type": "code",
   "execution_count": null,
   "id": "b0c017a3",
   "metadata": {},
   "outputs": [],
   "source": [
    "def extract_vaga_features(vaga):\n",
    "    f = {}\n",
    "    infos_basicas = vaga.get('informacoes_basicas', {})\n",
    "    perfil = vaga.get('perfil_vaga', {})\n",
    "    f['titulo_vaga'] = infos_basicas.get('titulo_vaga')\n",
    "    f['cliente'] = infos_basicas.get('cliente')\n",
    "    f['tipo_contratacao'] = infos_basicas.get('tipo_contratacao')\n",
    "    f['nivel_profissional_vaga'] = perfil.get('nivel profissional')\n",
    "    f['nivel_academico_vaga'] = perfil.get('nivel_academico')\n",
    "    f['nivel_ingles_vaga'] = perfil.get('nivel_ingles')\n",
    "    f['nivel_espanhol_vaga'] = perfil.get('nivel_espanhol')\n",
    "    f['areas_atuacao_vaga'] = perfil.get('areas_atuacao')\n",
    "    f['principais_atividades_vaga'] = perfil.get('principais_atividades', '')\n",
    "    return f"
   ]
  },
  {
   "cell_type": "markdown",
   "id": "c43c741c",
   "metadata": {},
   "source": [
    "#### 2.2.3 Unificando os dados dos candidatos e vagas"
   ]
  },
  {
   "cell_type": "code",
   "execution_count": null,
   "id": "de703b32",
   "metadata": {},
   "outputs": [],
   "source": [
    "def enrich_with_applicant(row):\n",
    "    cand_id = row['candidato_id']\n",
    "    applicant = applicants_data.get(cand_id)\n",
    "    if applicant:\n",
    "        feats = extract_applicant_features(applicant)\n",
    "        for k, v in feats.items():\n",
    "            row[f'cand_{k}'] = v\n",
    "    else:\n",
    "        for k in ['sexo', 'idade', 'estado_civil', 'area_atuacao', 'nivel_profissional', \n",
    "                  'tempo_experiencia', 'ultimo_salario', 'nivel_academico', 'nivel_ingles', \n",
    "                  'nivel_espanhol', 'cargo_atual', 'cv_pt', 'cv_en']:\n",
    "            row[f'cand_{k}'] = np.nan\n",
    "    return row"
   ]
  },
  {
   "cell_type": "code",
   "execution_count": null,
   "id": "1c97eae5",
   "metadata": {},
   "outputs": [],
   "source": [
    "def enrich_with_vaga(row):\n",
    "    vaga_id = row['vaga_id']\n",
    "    vaga = vagas_data.get(vaga_id)\n",
    "    if vaga:\n",
    "        feats = extract_vaga_features(vaga)\n",
    "        for k, v in feats.items():\n",
    "            row[f'vaga_{k}'] = v\n",
    "    else:\n",
    "        for k in ['titulo_vaga', 'cliente', 'tipo_contratacao', 'nivel_profissional_vaga', \n",
    "                  'nivel_academico_vaga', 'nivel_ingles_vaga', 'nivel_espanhol_vaga', \n",
    "                  'areas_atuacao_vaga', 'principais_atividades_vaga']:\n",
    "            row[f'vaga_{k}'] = np.nan\n",
    "    return row"
   ]
  },
  {
   "cell_type": "markdown",
   "id": "ff35385c",
   "metadata": {},
   "source": [
    "Aplicar as funções que criamos para enriquecimento do df"
   ]
  },
  {
   "cell_type": "code",
   "execution_count": null,
   "id": "eaa850db",
   "metadata": {},
   "outputs": [],
   "source": [
    "df = df.apply(enrich_with_applicant, axis=1)\n",
    "df = df.apply(enrich_with_vaga, axis=1)\n",
    "#3min+-"
   ]
  },
  {
   "cell_type": "markdown",
   "id": "1c7fb4cd",
   "metadata": {},
   "source": [
    "#### 2.3 Dataframe final"
   ]
  },
  {
   "cell_type": "code",
   "execution_count": null,
   "id": "37c37f8b",
   "metadata": {},
   "outputs": [
    {
     "name": "stdout",
     "output_type": "stream",
     "text": [
      "DataFrame enriquecido shape: (53759, 31)\n",
      "\n",
      "Colunas disponíveis: ['vaga_id', 'candidato_id', 'nome_candidato', 'situacao_candidado', 'comentario', 'recrutador', 'data_candidatura', 'ultima_atualizacao', 'target', 'cand_sexo', 'cand_idade', 'cand_estado_civil', 'cand_area_atuacao', 'cand_nivel_profissional', 'cand_tempo_experiencia', 'cand_ultimo_salario', 'cand_nivel_academico', 'cand_nivel_ingles', 'cand_nivel_espanhol', 'cand_cargo_atual', 'cand_cv_pt', 'cand_cv_en', 'vaga_titulo_vaga', 'vaga_cliente', 'vaga_tipo_contratacao', 'vaga_nivel_profissional_vaga', 'vaga_nivel_academico_vaga', 'vaga_nivel_ingles_vaga', 'vaga_nivel_espanhol_vaga', 'vaga_areas_atuacao_vaga', 'vaga_principais_atividades_vaga']\n",
      "\n",
      "Exemplo de linha:\n",
      "candidato_id                                                                   25632\n",
      "cand_nivel_academico                                                             NaN\n",
      "cand_area_atuacao                                                                NaN\n",
      "cand_cv_pt                                                                       NaN\n",
      "vaga_titulo_vaga                                                 CONSULTOR CONTROL M\n",
      "vaga_nivel_profissional_vaga                                                   Pleno\n",
      "vaga_principais_atividades_vaga    - Experiência comprovada em projetos de control-M\n",
      "Name: 0, dtype: object\n"
     ]
    }
   ],
   "source": [
    "print(\"DataFrame enriquecido shape:\", df.shape)\n",
    "print(\"\\nColunas disponíveis:\", list(df.columns))\n",
    "print(\"\\nExemplo de linha:\")\n",
    "print(df.iloc[0][['candidato_id', 'cand_nivel_academico', 'cand_area_atuacao', 'cand_cv_pt', \n",
    "                  'vaga_titulo_vaga', 'vaga_nivel_profissional_vaga', 'vaga_principais_atividades_vaga']])\n"
   ]
  },
  {
   "cell_type": "markdown",
   "id": "fe8ab32a",
   "metadata": {},
   "source": [
    "## 3. Análise Exploratória de Dados\n",
    "\n",
    "Com nosso dataframe criado, podemos explorar e extrair insights iniciais sobre as informações das vagas e candidatos."
   ]
  },
  {
   "cell_type": "markdown",
   "id": "76938a9b",
   "metadata": {},
   "source": [
    "### 3.1 Feature Check e amostra de dados"
   ]
  },
  {
   "cell_type": "code",
   "execution_count": null,
   "id": "0e51d1b1",
   "metadata": {},
   "outputs": [
    {
     "name": "stdout",
     "output_type": "stream",
     "text": [
      "Percentual de preenchimento:\n",
      "cand_nivel_academico: 14.0%\n",
      "cand_area_atuacao: 14.0%\n",
      "cand_nivel_ingles: 14.0%\n",
      "cand_nivel_espanhol: 14.0%\n",
      "vaga_nivel_profissional_vaga: 100.0%\n",
      "vaga_nivel_academico_vaga: 100.0%\n",
      "vaga_nivel_ingles_vaga: 100.0%\n",
      "vaga_areas_atuacao_vaga: 100.0%\n",
      "vaga_principais_atividades_vaga: 100.0%\n"
     ]
    }
   ],
   "source": [
    "features_to_check = [\n",
    "    'cand_nivel_academico', 'cand_area_atuacao', 'cand_nivel_ingles', 'cand_nivel_espanhol',\n",
    "    'vaga_nivel_profissional_vaga', 'vaga_nivel_academico_vaga', 'vaga_nivel_ingles_vaga',\n",
    "    'vaga_areas_atuacao_vaga', 'vaga_principais_atividades_vaga'\n",
    "]\n",
    "print(\"Percentual de preenchimento:\")\n",
    "for col in features_to_check:\n",
    "    percent = df[col].notnull().mean() * 100\n",
    "    print(f\"{col}: {percent:.1f}%\")"
   ]
  },
  {
   "cell_type": "markdown",
   "id": "1c81cebb",
   "metadata": {},
   "source": [
    "Os campos relacionados às vagas estarem 100% preenchidos indica que são ótimos para considerarmos como features."
   ]
  },
  {
   "cell_type": "code",
   "execution_count": null,
   "id": "4c84ff0d",
   "metadata": {},
   "outputs": [
    {
     "name": "stdout",
     "output_type": "stream",
     "text": [
      "\n",
      "Principais valores (top 5) de cada coluna categórica:\n",
      "\n",
      "\n",
      "\n",
      "cand_nivel_academico\n",
      "                              5421\n",
      "Ensino Superior Completo       994\n",
      "Pós Graduação Completo         481\n",
      "Ensino Superior Cursando       234\n",
      "Ensino Superior Incompleto     113\n",
      "Name: count, dtype: int64\n",
      "\n",
      "\n",
      "cand_area_atuacao\n",
      "                                    5481\n",
      "TI - SAP                             383\n",
      "TI - Desenvolvimento/Programação     381\n",
      "Administrativa                       126\n",
      "TI - Projetos                         92\n",
      "Name: count, dtype: int64\n",
      "\n",
      "\n",
      "cand_nivel_ingles\n",
      "                 5436\n",
      "Intermediário     740\n",
      "Básico            580\n",
      "Avançado          525\n",
      "Fluente           183\n",
      "Name: count, dtype: int64\n",
      "\n",
      "\n",
      "vaga_nivel_profissional_vaga\n",
      "Sênior          20978\n",
      "Analista        17887\n",
      "Pleno            9852\n",
      "Júnior           1984\n",
      "Especialista     1124\n",
      "Name: count, dtype: int64\n"
     ]
    }
   ],
   "source": [
    "print(\"\\nPrincipais valores (top 5) de cada coluna categórica:\\n\")\n",
    "for col in ['cand_nivel_academico', 'cand_area_atuacao', 'cand_nivel_ingles', 'vaga_nivel_profissional_vaga']:\n",
    "    print(\"\\n\")\n",
    "    print(df[col].value_counts().head())"
   ]
  },
  {
   "cell_type": "markdown",
   "id": "7dde632e",
   "metadata": {},
   "source": [
    "Número considerável de entradas em branco, vamos tratar esses dados para evitar erros posteriormente"
   ]
  },
  {
   "cell_type": "code",
   "execution_count": null,
   "id": "b5957d5e",
   "metadata": {},
   "outputs": [
    {
     "name": "stdout",
     "output_type": "stream",
     "text": [
      "\n",
      "Tamanho médio do CV (pt): 680.9314347365092\n",
      "Tamanho médio da descrição da vaga: 438.5958816198218\n",
      "\n",
      "Amostra de CV do candidato:\n",
      "solteiro, brasileiro, 21/06/1987\n",
      "habilitação categoria “ab”\n",
      "objetivo\n",
      "\n",
      "atuar em times ágeis, conseguir levar os valores que acredito serem essenciais em termos de qualidade em projetos de software e provar o quanto isso é benéfico para o processo de desenvolvimento de um produto.\n",
      "ajudar um time a cui\n",
      "\n",
      "Amostra de descrição da vaga:\n",
      "- Experiência comprovada em projetos de control-M\n"
     ]
    }
   ],
   "source": [
    "df['len_cv'] = df['cand_cv_pt'].fillna('').apply(len)\n",
    "df['len_desc_vaga'] = df['vaga_principais_atividades_vaga'].fillna('').apply(len)\n",
    "print(\"\\nTamanho médio do CV (pt):\", df['len_cv'].mean())\n",
    "print(\"Tamanho médio da descrição da vaga:\", df['len_desc_vaga'].mean())\n",
    "\n",
    "print(\"\\nAmostra de CV do candidato:\")\n",
    "print(df['cand_cv_pt'].dropna().iloc[0][:300])\n",
    "\n",
    "print(\"\\nAmostra de descrição da vaga:\")\n",
    "print(df['vaga_principais_atividades_vaga'].dropna().iloc[0][:300])\n"
   ]
  },
  {
   "cell_type": "markdown",
   "id": "a91689d1",
   "metadata": {},
   "source": [
    "Função para definir como \"Desconhecido\" se tivermos valores faltantes"
   ]
  },
  {
   "cell_type": "markdown",
   "id": "75a352b3",
   "metadata": {},
   "source": [
    "### 3.2 Filtrando campos em branco "
   ]
  },
  {
   "cell_type": "code",
   "execution_count": null,
   "id": "aa5983f0",
   "metadata": {},
   "outputs": [],
   "source": [
    "def clean_cat(col, default='Desconhecido'):\n",
    "    return df[col].replace('', default).fillna(default)"
   ]
  },
  {
   "cell_type": "code",
   "execution_count": null,
   "id": "eb0512bb",
   "metadata": {},
   "outputs": [],
   "source": [
    "for col in ['cand_nivel_academico', 'cand_area_atuacao', 'cand_nivel_ingles', 'cand_nivel_espanhol']:\n",
    "    df[col] = clean_cat(col)"
   ]
  },
  {
   "cell_type": "code",
   "execution_count": null,
   "id": "82e68e5b",
   "metadata": {},
   "outputs": [
    {
     "name": "stdout",
     "output_type": "stream",
     "text": [
      "\n",
      "Exemplo de texto candidato:\n",
      " \n",
      "\n",
      "Exemplo de texto vaga:\n",
      " - Experiência comprovada em projetos de control-M\n"
     ]
    }
   ],
   "source": [
    "df['text_candidato'] = df['cand_cv_pt'].fillna('')\n",
    "df['text_vaga'] = df['vaga_principais_atividades_vaga'].fillna('')\n",
    "\n",
    "print(\"\\nExemplo de texto candidato:\\n\", df['text_candidato'].iloc[0][:500])\n",
    "print(\"\\nExemplo de texto vaga:\\n\", df['text_vaga'].iloc[0][:300])"
   ]
  },
  {
   "cell_type": "markdown",
   "id": "4316dcc7",
   "metadata": {},
   "source": [
    "## 4. Embeddings\n",
    "\n"
   ]
  },
  {
   "cell_type": "markdown",
   "id": "4e432500",
   "metadata": {},
   "source": [
    "Durante a análise dos currículos (CVs), identificamos uma grande variedade de termos técnicos, além de uma mistura de expressões em português e inglês, e textos descritivos sobre os candidatos.\n",
    "\n",
    "Para garantir maior eficiência e padronização no processamento dos dados, optamos por traduzir todo o conteúdo dos CVs para o português utilizando um modelo de IA pré-treinado da Hugging Face antes de realizar o embedding dos textos.\n",
    "\n",
    "**Observação:**  \n",
    "Devido a limitações de processamento local e em nuvem, iremos apenas demonstrar a quantidade de CVs que possuem conteúdo majoritariamente em inglês. O treinamento do modelo será realizado exclusivamente com textos em português (pt-BR)."
   ]
  },
  {
   "cell_type": "markdown",
   "id": "971e2feb",
   "metadata": {},
   "source": [
    "### 4.1 Funçao de normalização de texto\n",
    "\n"
   ]
  },
  {
   "cell_type": "markdown",
   "id": "bbee6057",
   "metadata": {},
   "source": [
    "#### 1. `traduzir_en_para_pt()`: Traduzir Texto\n",
    "Esta função utiliza um modelo pré-carregado para traduzir textos do inglês para o português.\n",
    "\n",
    "---\n",
    "\n",
    "#### 2. `extrair_narrativa_cv()`: Extrair Resumo do CV 📄\n",
    "Isola a primeira parte de um CV, buscando palavras-chave para extrair habilidades dos candidatos.\n",
    "\n",
    "---\n",
    "\n",
    "#### 3. `extrair_skills_vaga()`: Extrair Competências da Vaga 🎯\n",
    "Escaneia o texto de uma descrição de vaga para identificar e listar as competências técnicas exigidas.\n",
    "\n",
    "- **Detecta palavras com duas ou mais letras maiúsculas** (comum para siglas como SQL, AWS, BI).\n",
    "- **Busca em uma lista pré-definida de tecnologias comuns** (Java, Python, Azure, etc).\n",
    "\n",
    "---\n",
    "\n",
    "#### 4. `score_matching_skills()`: Calcular Pontuação de Compatibilidade 💯\n",
    "Calcula uma pontuação de 0 a 1 que representa o quão bem as competências de um candidato correspondem às competências exigidas pela vaga."
   ]
  },
  {
   "cell_type": "code",
   "execution_count": null,
   "id": "ad6c1223",
   "metadata": {},
   "outputs": [
    {
     "ename": "IndentationError",
     "evalue": "unindent does not match any outer indentation level (<string>, line 23)",
     "output_type": "error",
     "traceback": [
      "  \u001b[36mFile \u001b[39m\u001b[32m<string>:23\u001b[39m\n",
      "\u001b[31m    \u001b[39m\u001b[31mreturn set(re.findall(padrao, texto_vaga, flags=re.IGNORECASE))\u001b[39m\n",
      "                                                                   ^\n",
      "\u001b[31mIndentationError\u001b[39m\u001b[31m:\u001b[39m unindent does not match any outer indentation level\n"
     ]
    }
   ],
   "source": [
    "#Define o modelo de tradução\n",
    "model_name = 'Helsinki-NLP/opus-mt-tc-big-en-pt'\n",
    "tokenizer = MarianTokenizer.from_pretrained(model_name)\n",
    "model = MarianMTModel.from_pretrained(model_name)\n",
    "\n",
    "# Função para traduzir texto de inglês para português\n",
    "def traduzir_en_para_pt(texto):\n",
    "    if not texto or len(texto.strip()) == 0:\n",
    "        return texto\n",
    "    batch = tokenizer([texto], return_tensors=\"pt\", truncation=True, padding=True)\n",
    "    gen = model.generate(**batch)\n",
    "    traduzido = tokenizer.batch_decode(gen, skip_special_tokens=True)[0]\n",
    "    return traduzido\n",
    "\n",
    "# Função para normalizar skills e experiência dos candidatos   \n",
    "def extrair_narrativa_cv(cv_texto):\n",
    "    match = re.split(r'(experiência|experience|skills|habilidades|certificados)', cv_texto, flags=re.IGNORECASE)\n",
    "    return match[0] if match else cv_texto[:1000] # 1000 caracteres\n",
    "\n",
    "# Extrai todas as palavras maiúsculas e siglas, além de algumas comuns em tech\n",
    "def extrair_skills_vaga(texto_vaga):\n",
    "     padrao = r'\\b[A-Z]{2,}\\b|\\b(?:Java|Python|SQL|Azure|AWS|SAP|Excel|Linux|Agile|Node|React|C#|C\\+\\+|Oracle|BI|PowerBI|RPA|DevOps)\\b'\n",
    "    return set(re.findall(padrao, texto_vaga, flags=re.IGNORECASE))\n",
    "\n",
    "\n",
    "def score_matching_skills(cv_texto, skills_vaga):\n",
    "    skills_cv = set([x.lower() for x in re.findall(r'\\b\\w+\\b', cv_texto)])\n",
    "    skills_vaga = set([x.lower() for x in skills_vaga])\n",
    "    if not skills_vaga:\n",
    "        return 0\n",
    "    return len(skills_cv & skills_vaga) / len(skills_vaga)"
   ]
  },
  {
   "cell_type": "markdown",
   "id": "b15001a3",
   "metadata": {},
   "source": [
    "### 4.2 Detecção e tradução de idioma/texto"
   ]
  },
  {
   "cell_type": "markdown",
   "id": "0cacab44",
   "metadata": {},
   "source": [
    "#### 4.2.1 Funçao Langid\n",
    "Esta função, detect_langid, serve para identificar o idioma de um texto usando a biblioteca langid."
   ]
  },
  {
   "cell_type": "code",
   "execution_count": null,
   "id": "8b789f55",
   "metadata": {},
   "outputs": [],
   "source": [
    "def detect_langid(text, default='pt'):\n",
    "    if not isinstance(text, str) or not text.strip() or not re.search(r'[a-zA-Z]', text):\n",
    "        return default\n",
    "    lang, _ = langid.classify(text)\n",
    "    return lang"
   ]
  },
  {
   "cell_type": "markdown",
   "id": "a9cae070",
   "metadata": {},
   "source": [
    "----"
   ]
  },
  {
   "cell_type": "markdown",
   "id": "4223978e",
   "metadata": {},
   "source": [
    "#### 4.2.2 Traduçao de conteúdo\n",
    "\n",
    "Essa parte aqui na linha que tá comentada, vai tentar traduzir os CV em ingles... meu note demorou muito muito. Pra rodar, só troca e põe o # na próxima linha"
   ]
  },
  {
   "cell_type": "code",
   "execution_count": null,
   "id": "d003ae48",
   "metadata": {},
   "outputs": [
    {
     "name": "stderr",
     "output_type": "stream",
     "text": [
      "100%|██████████| 53759/53759 [00:43<00:00, 1224.40it/s]"
     ]
    },
    {
     "name": "stdout",
     "output_type": "stream",
     "text": [
      "CVs em Português: 53284\n",
      "CVs em Inglês: 475\n"
     ]
    },
    {
     "name": "stderr",
     "output_type": "stream",
     "text": [
      "\n"
     ]
    }
   ],
   "source": [
    "textos_cv_processados = []\n",
    "textos_vaga_processados = []\n",
    "scores_skills = []\n",
    "qnt_en = 0\n",
    "qnt_pt = 0\n",
    "\n",
    "for i, row in tqdm(df.iterrows(), total=len(df)):\n",
    "    cv_texto = row['text_candidato']\n",
    "    vaga_texto = row['text_vaga']\n",
    "    lang_cv = detect_langid(cv_texto)\n",
    "    if lang_cv == 'en': \n",
    "        qnt_en = qnt_en+1 \n",
    "    else: \n",
    "        qnt_pt = qnt_pt+1\n",
    "    #cv_traduzido = traduzir_en_para_pt(cv_texto) if lang_cv == 'en' else cv_texto\n",
    "    cv_traduzido = cv_texto\n",
    "    narrativa_cv = extrair_narrativa_cv(cv_traduzido)\n",
    "    skills_vaga = extrair_skills_vaga(vaga_texto)\n",
    "    score_skills = score_matching_skills(cv_traduzido, skills_vaga)\n",
    "    textos_cv_processados.append(narrativa_cv)\n",
    "    textos_vaga_processados.append(vaga_texto)\n",
    "    scores_skills.append(score_skills)\n",
    "print(f'CVs em Português: {qnt_pt}')\n",
    "print(f'CVs em Inglês: {qnt_en}')"
   ]
  },
  {
   "cell_type": "markdown",
   "id": "09caabb4",
   "metadata": {},
   "source": [
    "### 4.3 Criação de Embeddings e Calculo de similaridade do Cosseno\n",
    "\n"
   ]
  },
  {
   "cell_type": "markdown",
   "id": "ed24b45c",
   "metadata": {},
   "source": [
    "### 4.3 Criação de Embeddings e Cálculo de Similaridade\n",
    "\n"
   ]
  },
  {
   "cell_type": "markdown",
   "id": "e1efa4a0",
   "metadata": {},
   "source": [
    "Nesta etapa, o texto dos candidatos (já traduzido para português) será transformado em vetores numéricos (embeddings) utilizando a biblioteca **Sentence Transformer**, especificamente o modelo `paraphrase-multilingual-MiniLM-L12-v2`.\n",
    "\n",
    "Após a geração dos embeddings, será realizada a comparação entre os vetores dos candidatos e das vagas por meio da **similaridade do cosseno**. Esse cálculo permite determinar o grau de compatibilidade entre o perfil do candidato e os requisitos da vaga.\n",
    "\n",
    "- **Ferramenta utilizada:** Sentence Transformer  \n",
    "- **Modelo:** paraphrase-multilingual-MiniLM-L12-v2  \n",
    "- **Métrica de comparação:** Similaridade do cosseno entre os embeddings de candidato e vaga"
   ]
  },
  {
   "cell_type": "code",
   "execution_count": null,
   "id": "474bb74d",
   "metadata": {},
   "outputs": [
    {
     "name": "stderr",
     "output_type": "stream",
     "text": [
      "Batches: 100%|██████████| 1680/1680 [01:47<00:00, 15.67it/s]\n",
      "Batches: 100%|██████████| 1680/1680 [07:27<00:00,  3.76it/s]\n"
     ]
    },
    {
     "name": "stdout",
     "output_type": "stream",
     "text": [
      "Preview de similaridades e matching de skills:\n",
      "  candidato_id vaga_id  similaridade_cv_vaga  score_matching_skills  target\n",
      "0        25632    4530              0.281989               0.000000       0\n",
      "1        25529    4530              0.281989               0.000000       0\n",
      "2        25364    4531              0.080353               0.000000       1\n",
      "3        25360    4531              0.080353               0.000000       0\n",
      "4        26338    4533              0.398069               0.700000       1\n",
      "5        24645    4533              0.061633               0.000000       0\n",
      "6        26361    4534              0.257040               0.529412       0\n",
      "7        26205    4534              0.339967               0.529412       0\n",
      "8        26003    4534              0.001010               0.000000       0\n",
      "9        25509    4534              0.001010               0.000000       0\n",
      "\n",
      "Subset salvo com embeddings, similaridade e score de matching de skills.\n"
     ]
    }
   ],
   "source": [
    "model = SentenceTransformer('paraphrase-multilingual-MiniLM-L12-v2')\n",
    "\n",
    "emb_candidato = model.encode(textos_cv_processados, show_progress_bar=True)\n",
    "emb_vaga = model.encode(textos_vaga_processados, show_progress_bar=True)\n",
    "\n",
    "similaridades = [cosine_similarity([emb_candidato[i]], [emb_vaga[i]])[0][0] for i in range(len(textos_cv_processados))]\n",
    "\n",
    "df['similaridade_cv_vaga'] = similaridades\n",
    "df['score_matching_skills'] = scores_skills\n",
    "\n",
    "print(\"Preview de similaridades e matching de skills:\")\n",
    "print(df[['candidato_id', 'vaga_id', 'similaridade_cv_vaga', 'score_matching_skills', 'target']].head(10))\n",
    "\n",
    "#df.to_csv('df_com_embeddings_e_skills.csv', index=False)\n",
    "print(\"\\nSubset salvo com embeddings, similaridade e score de matching de skills.\")\n",
    "x"
   ]
  },
  {
   "cell_type": "markdown",
   "id": "90aa2725",
   "metadata": {},
   "source": [
    "Vamos testar se a similaridade entre os embeddings de CV e da vaga indicam uma relação com o target"
   ]
  },
  {
   "cell_type": "code",
   "execution_count": null,
   "id": "ad9d3ac6",
   "metadata": {},
   "outputs": [
    {
     "name": "stdout",
     "output_type": "stream",
     "text": [
      "Target=0 (não contratado): média = 0.1711539  | std = 0.14080708  | n = 50566\n",
      "Target=1 (contratado):      média = 0.21588552  | std = 0.17148855  | n = 3193\n",
      "\n",
      "Teste t para diferença de médias: t=14.435, p-valor=0.0000\n"
     ]
    },
    {
     "data": {
      "image/png": "[encoded data removed]",
      "text/plain": [
       "<Figure size 700x400 with 1 Axes>"
      ]
     },
     "metadata": {},
     "output_type": "display_data"
    }
   ],
   "source": [
    "# Estatísticas básicas\n",
    "grupo_0 = df[df['target'] == 0]['similaridade_cv_vaga']\n",
    "grupo_1 = df[df['target'] == 1]['similaridade_cv_vaga']\n",
    "\n",
    "print(\"Target=0 (não contratado): média =\", grupo_0.mean(), \" | std =\", grupo_0.std(), \" | n =\", len(grupo_0))\n",
    "print(\"Target=1 (contratado):      média =\", grupo_1.mean(), \" | std =\", grupo_1.std(), \" | n =\", len(grupo_1))\n",
    "\n",
    "# Teste t para diferença de médias\n",
    "tstat, pval = ttest_ind(grupo_1, grupo_0, equal_var=False)\n",
    "print(f\"\\nTeste t para diferença de médias: t={tstat:.3f}, p-valor={pval:.4f}\")\n",
    "\n",
    "# Gráfico boxplot\n",
    "plt.figure(figsize=(7, 4))\n",
    "plt.boxplot([grupo_0, grupo_1], tick_labels=['Target 0', 'Target 1'])\n",
    "plt.title(\"Distribuição da Similaridade (CV x Vaga) por Classe\")\n",
    "plt.ylabel(\"Similaridade (cosine)\")\n",
    "plt.show()"
   ]
  },
  {
   "cell_type": "markdown",
   "id": "544d9ef4",
   "metadata": {},
   "source": [
    "Apesar do p-value mostrar diferença estatística (porque a amostra é grande), a diferença prática (média de 0.31 vs 0.30) é pequena e o boxplot mostra muita sobreposição das distribuições.\n",
    "\n",
    "Similaridade entre CV e vaga não é um bom critério preditivo isolado de contratação e bem na verdade, para contratados tende a ser até um pouco menor\n",
    "\n",
    "Isso pode refletir o contexto de TI e recrutamento, onde fatores não explícitos no texto (network, experiência específica, indicações, requisitos do cliente, etc) pesam mais do que “palavras em comum”."
   ]
  },
  {
   "cell_type": "markdown",
   "id": "115b2083",
   "metadata": {},
   "source": [
    "## 5.  Pipeline"
   ]
  },
  {
   "cell_type": "markdown",
   "id": "0407e6e9",
   "metadata": {},
   "source": [
    "### 5.1 Seleção das features"
   ]
  },
  {
   "cell_type": "markdown",
   "id": "ef969b05",
   "metadata": {},
   "source": [
    "Durante o desenvolvimento do modelo, foi necessário categorizar a similaridade entre o currículo (CV) e a vaga.\n",
    "\n",
    "**Principais pontos:**\n",
    "\n",
    "* A similaridade entre CV e vaga é importante, mas não é o único critério relevante.\n",
    "* O modelo precisa considerar múltiplas variáveis para aumentar sua capacidade preditiva."
   ]
  },
  {
   "cell_type": "code",
   "execution_count": null,
   "id": "122e43e0",
   "metadata": {},
   "outputs": [],
   "source": [
    "df['similaridade_cv_vaga_bin'] = pd.cut(df['similaridade_cv_vaga'], bins=[0, 0.25, 0.5, 0.75, 1], labels=[0,1,2,3])"
   ]
  },
  {
   "cell_type": "markdown",
   "id": "a0cdcc6a",
   "metadata": {},
   "source": [
    "Seleção das features que temos interesse"
   ]
  },
  {
   "cell_type": "code",
   "execution_count": null,
   "id": "b0e7da1d",
   "metadata": {},
   "outputs": [],
   "source": [
    "features = [\n",
    "    'cand_nivel_academico', \n",
    "    'cand_area_atuacao', \n",
    "    'cand_nivel_ingles', \n",
    "    'cand_nivel_espanhol',\n",
    "    'cand_nivel_profissional',\n",
    "    'vaga_nivel_academico_vaga', \n",
    "    'vaga_areas_atuacao_vaga', \n",
    "    'vaga_nivel_ingles_vaga',\n",
    "    'vaga_nivel_espanhol_vaga',\n",
    "    'vaga_nivel_profissional_vaga',\n",
    "    'similaridade_cv_vaga_bin',\n",
    "    'score_matching_skills'\n",
    "]\n",
    "\n",
    "X = df[features]\n",
    "y = df['target']\n"
   ]
  },
  {
   "cell_type": "markdown",
   "id": "8399cf16",
   "metadata": {},
   "source": [
    "### 5.2 Criando modelo"
   ]
  },
  {
   "cell_type": "markdown",
   "id": "f18cd8dc",
   "metadata": {},
   "source": [
    "#### 5.2.1 Pré-processamento"
   ]
  },
  {
   "cell_type": "code",
   "execution_count": null,
   "id": "54b4b4df",
   "metadata": {},
   "outputs": [],
   "source": [
    "X_enc = pd.get_dummies(X, drop_first=True)"
   ]
  },
  {
   "cell_type": "markdown",
   "id": "1f750e5b",
   "metadata": {},
   "source": [
    "#### 5.2.2 Split em treino e teste"
   ]
  },
  {
   "cell_type": "code",
   "execution_count": null,
   "id": "05cf92ee",
   "metadata": {},
   "outputs": [],
   "source": [
    "X_train, X_test, y_train, y_test = train_test_split(\n",
    "    X_enc, y, test_size=0.2, stratify=y, random_state=42)"
   ]
  },
  {
   "cell_type": "markdown",
   "id": "96405bc0",
   "metadata": {},
   "source": [
    "#### 5.2.3 Treino de RandomForesst"
   ]
  },
  {
   "cell_type": "code",
   "execution_count": null,
   "id": "1196aeee",
   "metadata": {},
   "outputs": [
    {
     "data": {
      "text/html": [
       "<style>#sk-container-id-1 {\n",
       "  /* Definition of color scheme common for light and dark mode */\n",
       "  --sklearn-color-text: #000;\n",
       "  --sklearn-color-text-muted: #666;\n",
       "  --sklearn-color-line: gray;\n",
       "  /* Definition of color scheme for unfitted estimators */\n",
       "  --sklearn-color-unfitted-level-0: #fff5e6;\n",
       "  --sklearn-color-unfitted-level-1: #f6e4d2;\n",
       "  --sklearn-color-unfitted-level-2: #ffe0b3;\n",
       "  --sklearn-color-unfitted-level-3: chocolate;\n",
       "  /* Definition of color scheme for fitted estimators */\n",
       "  --sklearn-color-fitted-level-0: #f0f8ff;\n",
       "  --sklearn-color-fitted-level-1: #d4ebff;\n",
       "  --sklearn-color-fitted-level-2: #b3dbfd;\n",
       "  --sklearn-color-fitted-level-3: cornflowerblue;\n",
       "\n",
       "  /* Specific color for light theme */\n",
       "  --sklearn-color-text-on-default-background: var(--sg-text-color, var(--theme-code-foreground, var(--jp-content-font-color1, black)));\n",
       "  --sklearn-color-background: var(--sg-background-color, var(--theme-background, var(--jp-layout-color0, white)));\n",
       "  --sklearn-color-border-box: var(--sg-text-color, var(--theme-code-foreground, var(--jp-content-font-color1, black)));\n",
       "  --sklearn-color-icon: #696969;\n",
       "\n",
       "  @media (prefers-color-scheme: dark) {\n",
       "    /* Redefinition of color scheme for dark theme */\n",
       "    --sklearn-color-text-on-default-background: var(--sg-text-color, var(--theme-code-foreground, var(--jp-content-font-color1, white)));\n",
       "    --sklearn-color-background: var(--sg-background-color, var(--theme-background, var(--jp-layout-color0, #111)));\n",
       "    --sklearn-color-border-box: var(--sg-text-color, var(--theme-code-foreground, var(--jp-content-font-color1, white)));\n",
       "    --sklearn-color-icon: #878787;\n",
       "  }\n",
       "}\n",
       "\n",
       "#sk-container-id-1 {\n",
       "  color: var(--sklearn-color-text);\n",
       "}\n",
       "\n",
       "#sk-container-id-1 pre {\n",
       "  padding: 0;\n",
       "}\n",
       "\n",
       "#sk-container-id-1 input.sk-hidden--visually {\n",
       "  border: 0;\n",
       "  clip: rect(1px 1px 1px 1px);\n",
       "  clip: rect(1px, 1px, 1px, 1px);\n",
       "  height: 1px;\n",
       "  margin: -1px;\n",
       "  overflow: hidden;\n",
       "  padding: 0;\n",
       "  position: absolute;\n",
       "  width: 1px;\n",
       "}\n",
       "\n",
       "#sk-container-id-1 div.sk-dashed-wrapped {\n",
       "  border: 1px dashed var(--sklearn-color-line);\n",
       "  margin: 0 0.4em 0.5em 0.4em;\n",
       "  box-sizing: border-box;\n",
       "  padding-bottom: 0.4em;\n",
       "  background-color: var(--sklearn-color-background);\n",
       "}\n",
       "\n",
       "#sk-container-id-1 div.sk-container {\n",
       "  /* jupyter's `normalize.less` sets `[hidden] { display: none; }`\n",
       "     but bootstrap.min.css set `[hidden] { display: none !important; }`\n",
       "     so we also need the `!important` here to be able to override the\n",
       "     default hidden behavior on the sphinx rendered scikit-learn.org.\n",
       "     See: https://github.com/scikit-learn/scikit-learn/issues/21755 */\n",
       "  display: inline-block !important;\n",
       "  position: relative;\n",
       "}\n",
       "\n",
       "#sk-container-id-1 div.sk-text-repr-fallback {\n",
       "  display: none;\n",
       "}\n",
       "\n",
       "div.sk-parallel-item,\n",
       "div.sk-serial,\n",
       "div.sk-item {\n",
       "  /* draw centered vertical line to link estimators */\n",
       "  background-image: linear-gradient(var(--sklearn-color-text-on-default-background), var(--sklearn-color-text-on-default-background));\n",
       "  background-size: 2px 100%;\n",
       "  background-repeat: no-repeat;\n",
       "  background-position: center center;\n",
       "}\n",
       "\n",
       "/* Parallel-specific style estimator block */\n",
       "\n",
       "#sk-container-id-1 div.sk-parallel-item::after {\n",
       "  content: \"\";\n",
       "  width: 100%;\n",
       "  border-bottom: 2px solid var(--sklearn-color-text-on-default-background);\n",
       "  flex-grow: 1;\n",
       "}\n",
       "\n",
       "#sk-container-id-1 div.sk-parallel {\n",
       "  display: flex;\n",
       "  align-items: stretch;\n",
       "  justify-content: center;\n",
       "  background-color: var(--sklearn-color-background);\n",
       "  position: relative;\n",
       "}\n",
       "\n",
       "#sk-container-id-1 div.sk-parallel-item {\n",
       "  display: flex;\n",
       "  flex-direction: column;\n",
       "}\n",
       "\n",
       "#sk-container-id-1 div.sk-parallel-item:first-child::after {\n",
       "  align-self: flex-end;\n",
       "  width: 50%;\n",
       "}\n",
       "\n",
       "#sk-container-id-1 div.sk-parallel-item:last-child::after {\n",
       "  align-self: flex-start;\n",
       "  width: 50%;\n",
       "}\n",
       "\n",
       "#sk-container-id-1 div.sk-parallel-item:only-child::after {\n",
       "  width: 0;\n",
       "}\n",
       "\n",
       "/* Serial-specific style estimator block */\n",
       "\n",
       "#sk-container-id-1 div.sk-serial {\n",
       "  display: flex;\n",
       "  flex-direction: column;\n",
       "  align-items: center;\n",
       "  background-color: var(--sklearn-color-background);\n",
       "  padding-right: 1em;\n",
       "  padding-left: 1em;\n",
       "}\n",
       "\n",
       "\n",
       "/* Toggleable style: style used for estimator/Pipeline/ColumnTransformer box that is\n",
       "clickable and can be expanded/collapsed.\n",
       "- Pipeline and ColumnTransformer use this feature and define the default style\n",
       "- Estimators will overwrite some part of the style using the `sk-estimator` class\n",
       "*/\n",
       "\n",
       "/* Pipeline and ColumnTransformer style (default) */\n",
       "\n",
       "#sk-container-id-1 div.sk-toggleable {\n",
       "  /* Default theme specific background. It is overwritten whether we have a\n",
       "  specific estimator or a Pipeline/ColumnTransformer */\n",
       "  background-color: var(--sklearn-color-background);\n",
       "}\n",
       "\n",
       "/* Toggleable label */\n",
       "#sk-container-id-1 label.sk-toggleable__label {\n",
       "  cursor: pointer;\n",
       "  display: flex;\n",
       "  width: 100%;\n",
       "  margin-bottom: 0;\n",
       "  padding: 0.5em;\n",
       "  box-sizing: border-box;\n",
       "  text-align: center;\n",
       "  align-items: start;\n",
       "  justify-content: space-between;\n",
       "  gap: 0.5em;\n",
       "}\n",
       "\n",
       "#sk-container-id-1 label.sk-toggleable__label .caption {\n",
       "  font-size: 0.6rem;\n",
       "  font-weight: lighter;\n",
       "  color: var(--sklearn-color-text-muted);\n",
       "}\n",
       "\n",
       "#sk-container-id-1 label.sk-toggleable__label-arrow:before {\n",
       "  /* Arrow on the left of the label */\n",
       "  content: \"▸\";\n",
       "  float: left;\n",
       "  margin-right: 0.25em;\n",
       "  color: var(--sklearn-color-icon);\n",
       "}\n",
       "\n",
       "#sk-container-id-1 label.sk-toggleable__label-arrow:hover:before {\n",
       "  color: var(--sklearn-color-text);\n",
       "}\n",
       "\n",
       "/* Toggleable content - dropdown */\n",
       "\n",
       "#sk-container-id-1 div.sk-toggleable__content {\n",
       "  display: none;\n",
       "  text-align: left;\n",
       "  /* unfitted */\n",
       "  background-color: var(--sklearn-color-unfitted-level-0);\n",
       "}\n",
       "\n",
       "#sk-container-id-1 div.sk-toggleable__content.fitted {\n",
       "  /* fitted */\n",
       "  background-color: var(--sklearn-color-fitted-level-0);\n",
       "}\n",
       "\n",
       "#sk-container-id-1 div.sk-toggleable__content pre {\n",
       "  margin: 0.2em;\n",
       "  border-radius: 0.25em;\n",
       "  color: var(--sklearn-color-text);\n",
       "  /* unfitted */\n",
       "  background-color: var(--sklearn-color-unfitted-level-0);\n",
       "}\n",
       "\n",
       "#sk-container-id-1 div.sk-toggleable__content.fitted pre {\n",
       "  /* unfitted */\n",
       "  background-color: var(--sklearn-color-fitted-level-0);\n",
       "}\n",
       "\n",
       "#sk-container-id-1 input.sk-toggleable__control:checked~div.sk-toggleable__content {\n",
       "  /* Expand drop-down */\n",
       "  display: block;\n",
       "  width: 100%;\n",
       "  overflow: visible;\n",
       "}\n",
       "\n",
       "#sk-container-id-1 input.sk-toggleable__control:checked~label.sk-toggleable__label-arrow:before {\n",
       "  content: \"▾\";\n",
       "}\n",
       "\n",
       "/* Pipeline/ColumnTransformer-specific style */\n",
       "\n",
       "#sk-container-id-1 div.sk-label input.sk-toggleable__control:checked~label.sk-toggleable__label {\n",
       "  color: var(--sklearn-color-text);\n",
       "  background-color: var(--sklearn-color-unfitted-level-2);\n",
       "}\n",
       "\n",
       "#sk-container-id-1 div.sk-label.fitted input.sk-toggleable__control:checked~label.sk-toggleable__label {\n",
       "  background-color: var(--sklearn-color-fitted-level-2);\n",
       "}\n",
       "\n",
       "/* Estimator-specific style */\n",
       "\n",
       "/* Colorize estimator box */\n",
       "#sk-container-id-1 div.sk-estimator input.sk-toggleable__control:checked~label.sk-toggleable__label {\n",
       "  /* unfitted */\n",
       "  background-color: var(--sklearn-color-unfitted-level-2);\n",
       "}\n",
       "\n",
       "#sk-container-id-1 div.sk-estimator.fitted input.sk-toggleable__control:checked~label.sk-toggleable__label {\n",
       "  /* fitted */\n",
       "  background-color: var(--sklearn-color-fitted-level-2);\n",
       "}\n",
       "\n",
       "#sk-container-id-1 div.sk-label label.sk-toggleable__label,\n",
       "#sk-container-id-1 div.sk-label label {\n",
       "  /* The background is the default theme color */\n",
       "  color: var(--sklearn-color-text-on-default-background);\n",
       "}\n",
       "\n",
       "/* On hover, darken the color of the background */\n",
       "#sk-container-id-1 div.sk-label:hover label.sk-toggleable__label {\n",
       "  color: var(--sklearn-color-text);\n",
       "  background-color: var(--sklearn-color-unfitted-level-2);\n",
       "}\n",
       "\n",
       "/* Label box, darken color on hover, fitted */\n",
       "#sk-container-id-1 div.sk-label.fitted:hover label.sk-toggleable__label.fitted {\n",
       "  color: var(--sklearn-color-text);\n",
       "  background-color: var(--sklearn-color-fitted-level-2);\n",
       "}\n",
       "\n",
       "/* Estimator label */\n",
       "\n",
       "#sk-container-id-1 div.sk-label label {\n",
       "  font-family: monospace;\n",
       "  font-weight: bold;\n",
       "  display: inline-block;\n",
       "  line-height: 1.2em;\n",
       "}\n",
       "\n",
       "#sk-container-id-1 div.sk-label-container {\n",
       "  text-align: center;\n",
       "}\n",
       "\n",
       "/* Estimator-specific */\n",
       "#sk-container-id-1 div.sk-estimator {\n",
       "  font-family: monospace;\n",
       "  border: 1px dotted var(--sklearn-color-border-box);\n",
       "  border-radius: 0.25em;\n",
       "  box-sizing: border-box;\n",
       "  margin-bottom: 0.5em;\n",
       "  /* unfitted */\n",
       "  background-color: var(--sklearn-color-unfitted-level-0);\n",
       "}\n",
       "\n",
       "#sk-container-id-1 div.sk-estimator.fitted {\n",
       "  /* fitted */\n",
       "  background-color: var(--sklearn-color-fitted-level-0);\n",
       "}\n",
       "\n",
       "/* on hover */\n",
       "#sk-container-id-1 div.sk-estimator:hover {\n",
       "  /* unfitted */\n",
       "  background-color: var(--sklearn-color-unfitted-level-2);\n",
       "}\n",
       "\n",
       "#sk-container-id-1 div.sk-estimator.fitted:hover {\n",
       "  /* fitted */\n",
       "  background-color: var(--sklearn-color-fitted-level-2);\n",
       "}\n",
       "\n",
       "/* Specification for estimator info (e.g. \"i\" and \"?\") */\n",
       "\n",
       "/* Common style for \"i\" and \"?\" */\n",
       "\n",
       ".sk-estimator-doc-link,\n",
       "a:link.sk-estimator-doc-link,\n",
       "a:visited.sk-estimator-doc-link {\n",
       "  float: right;\n",
       "  font-size: smaller;\n",
       "  line-height: 1em;\n",
       "  font-family: monospace;\n",
       "  background-color: var(--sklearn-color-background);\n",
       "  border-radius: 1em;\n",
       "  height: 1em;\n",
       "  width: 1em;\n",
       "  text-decoration: none !important;\n",
       "  margin-left: 0.5em;\n",
       "  text-align: center;\n",
       "  /* unfitted */\n",
       "  border: var(--sklearn-color-unfitted-level-1) 1pt solid;\n",
       "  color: var(--sklearn-color-unfitted-level-1);\n",
       "}\n",
       "\n",
       ".sk-estimator-doc-link.fitted,\n",
       "a:link.sk-estimator-doc-link.fitted,\n",
       "a:visited.sk-estimator-doc-link.fitted {\n",
       "  /* fitted */\n",
       "  border: var(--sklearn-color-fitted-level-1) 1pt solid;\n",
       "  color: var(--sklearn-color-fitted-level-1);\n",
       "}\n",
       "\n",
       "/* On hover */\n",
       "div.sk-estimator:hover .sk-estimator-doc-link:hover,\n",
       ".sk-estimator-doc-link:hover,\n",
       "div.sk-label-container:hover .sk-estimator-doc-link:hover,\n",
       ".sk-estimator-doc-link:hover {\n",
       "  /* unfitted */\n",
       "  background-color: var(--sklearn-color-unfitted-level-3);\n",
       "  color: var(--sklearn-color-background);\n",
       "  text-decoration: none;\n",
       "}\n",
       "\n",
       "div.sk-estimator.fitted:hover .sk-estimator-doc-link.fitted:hover,\n",
       ".sk-estimator-doc-link.fitted:hover,\n",
       "div.sk-label-container:hover .sk-estimator-doc-link.fitted:hover,\n",
       ".sk-estimator-doc-link.fitted:hover {\n",
       "  /* fitted */\n",
       "  background-color: var(--sklearn-color-fitted-level-3);\n",
       "  color: var(--sklearn-color-background);\n",
       "  text-decoration: none;\n",
       "}\n",
       "\n",
       "/* Span, style for the box shown on hovering the info icon */\n",
       ".sk-estimator-doc-link span {\n",
       "  display: none;\n",
       "  z-index: 9999;\n",
       "  position: relative;\n",
       "  font-weight: normal;\n",
       "  right: .2ex;\n",
       "  padding: .5ex;\n",
       "  margin: .5ex;\n",
       "  width: min-content;\n",
       "  min-width: 20ex;\n",
       "  max-width: 50ex;\n",
       "  color: var(--sklearn-color-text);\n",
       "  box-shadow: 2pt 2pt 4pt #999;\n",
       "  /* unfitted */\n",
       "  background: var(--sklearn-color-unfitted-level-0);\n",
       "  border: .5pt solid var(--sklearn-color-unfitted-level-3);\n",
       "}\n",
       "\n",
       ".sk-estimator-doc-link.fitted span {\n",
       "  /* fitted */\n",
       "  background: var(--sklearn-color-fitted-level-0);\n",
       "  border: var(--sklearn-color-fitted-level-3);\n",
       "}\n",
       "\n",
       ".sk-estimator-doc-link:hover span {\n",
       "  display: block;\n",
       "}\n",
       "\n",
       "/* \"?\"-specific style due to the `<a>` HTML tag */\n",
       "\n",
       "#sk-container-id-1 a.estimator_doc_link {\n",
       "  float: right;\n",
       "  font-size: 1rem;\n",
       "  line-height: 1em;\n",
       "  font-family: monospace;\n",
       "  background-color: var(--sklearn-color-background);\n",
       "  border-radius: 1rem;\n",
       "  height: 1rem;\n",
       "  width: 1rem;\n",
       "  text-decoration: none;\n",
       "  /* unfitted */\n",
       "  color: var(--sklearn-color-unfitted-level-1);\n",
       "  border: var(--sklearn-color-unfitted-level-1) 1pt solid;\n",
       "}\n",
       "\n",
       "#sk-container-id-1 a.estimator_doc_link.fitted {\n",
       "  /* fitted */\n",
       "  border: var(--sklearn-color-fitted-level-1) 1pt solid;\n",
       "  color: var(--sklearn-color-fitted-level-1);\n",
       "}\n",
       "\n",
       "/* On hover */\n",
       "#sk-container-id-1 a.estimator_doc_link:hover {\n",
       "  /* unfitted */\n",
       "  background-color: var(--sklearn-color-unfitted-level-3);\n",
       "  color: var(--sklearn-color-background);\n",
       "  text-decoration: none;\n",
       "}\n",
       "\n",
       "#sk-container-id-1 a.estimator_doc_link.fitted:hover {\n",
       "  /* fitted */\n",
       "  background-color: var(--sklearn-color-fitted-level-3);\n",
       "}\n",
       "\n",
       ".estimator-table summary {\n",
       "    padding: .5rem;\n",
       "    font-family: monospace;\n",
       "    cursor: pointer;\n",
       "}\n",
       "\n",
       ".estimator-table details[open] {\n",
       "    padding-left: 0.1rem;\n",
       "    padding-right: 0.1rem;\n",
       "    padding-bottom: 0.3rem;\n",
       "}\n",
       "\n",
       ".estimator-table .parameters-table {\n",
       "    margin-left: auto !important;\n",
       "    margin-right: auto !important;\n",
       "}\n",
       "\n",
       ".estimator-table .parameters-table tr:nth-child(odd) {\n",
       "    background-color: #fff;\n",
       "}\n",
       "\n",
       ".estimator-table .parameters-table tr:nth-child(even) {\n",
       "    background-color: #f6f6f6;\n",
       "}\n",
       "\n",
       ".estimator-table .parameters-table tr:hover {\n",
       "    background-color: #e0e0e0;\n",
       "}\n",
       "\n",
       ".estimator-table table td {\n",
       "    border: 1px solid rgba(106, 105, 104, 0.232);\n",
       "}\n",
       "\n",
       ".user-set td {\n",
       "    color:rgb(255, 94, 0);\n",
       "    text-align: left;\n",
       "}\n",
       "\n",
       ".user-set td.value pre {\n",
       "    color:rgb(255, 94, 0) !important;\n",
       "    background-color: transparent !important;\n",
       "}\n",
       "\n",
       ".default td {\n",
       "    color: black;\n",
       "    text-align: left;\n",
       "}\n",
       "\n",
       ".user-set td i,\n",
       ".default td i {\n",
       "    color: black;\n",
       "}\n",
       "\n",
       ".copy-paste-icon {\n",
       "    background-image: url(data:image/svg+xml;base64,PHN2ZyB4bWxucz0iaHR0cDovL3d3dy53My5vcmcvMjAwMC9zdmciIHZpZXdCb3g9IjAgMCA0NDggNTEyIj48IS0tIUZvbnQgQXdlc29tZSBGcmVlIDYuNy4yIGJ5IEBmb250YXdlc29tZSAtIGh0dHBzOi8vZm9udGF3ZXNvbWUuY29tIExpY2Vuc2UgLSBodHRwczovL2ZvbnRhd2Vzb21lLmNvbS9saWNlbnNlL2ZyZWUgQ29weXJpZ2h0IDIwMjUgRm9udGljb25zLCBJbmMuLS0+PHBhdGggZD0iTTIwOCAwTDMzMi4xIDBjMTIuNyAwIDI0LjkgNS4xIDMzLjkgMTQuMWw2Ny45IDY3LjljOSA5IDE0LjEgMjEuMiAxNC4xIDMzLjlMNDQ4IDMzNmMwIDI2LjUtMjEuNSA0OC00OCA0OGwtMTkyIDBjLTI2LjUgMC00OC0yMS41LTQ4LTQ4bDAtMjg4YzAtMjYuNSAyMS41LTQ4IDQ4LTQ4ek00OCAxMjhsODAgMCAwIDY0LTY0IDAgMCAyNTYgMTkyIDAgMC0zMiA2NCAwIDAgNDhjMCAyNi41LTIxLjUgNDgtNDggNDhMNDggNTEyYy0yNi41IDAtNDgtMjEuNS00OC00OEwwIDE3NmMwLTI2LjUgMjEuNS00OCA0OC00OHoiLz48L3N2Zz4=);\n",
       "    background-repeat: no-repeat;\n",
       "    background-size: 14px 14px;\n",
       "    background-position: 0;\n",
       "    display: inline-block;\n",
       "    width: 14px;\n",
       "    height: 14px;\n",
       "    cursor: pointer;\n",
       "}\n",
       "</style><body><div id=\"sk-container-id-1\" class=\"sk-top-container\"><div class=\"sk-text-repr-fallback\"><pre>RandomForestClassifier(class_weight=&#x27;balanced&#x27;, n_estimators=200, n_jobs=-1,\n",
       "                       random_state=42)</pre><b>In a Jupyter environment, please rerun this cell to show the HTML representation or trust the notebook. <br />On GitHub, the HTML representation is unable to render, please try loading this page with nbviewer.org.</b></div><div class=\"sk-container\" hidden><div class=\"sk-item\"><div class=\"sk-estimator fitted sk-toggleable\"><input class=\"sk-toggleable__control sk-hidden--visually\" id=\"sk-estimator-id-1\" type=\"checkbox\" checked><label for=\"sk-estimator-id-1\" class=\"sk-toggleable__label fitted sk-toggleable__label-arrow\"><div><div>RandomForestClassifier</div></div><div><a class=\"sk-estimator-doc-link fitted\" rel=\"noreferrer\" target=\"_blank\" href=\"https://scikit-learn.org/1.7/modules/generated/sklearn.ensemble.RandomForestClassifier.html\">?<span>Documentation for RandomForestClassifier</span></a><span class=\"sk-estimator-doc-link fitted\">i<span>Fitted</span></span></div></label><div class=\"sk-toggleable__content fitted\" data-param-prefix=\"\">\n",
       "        <div class=\"estimator-table\">\n",
       "            <details>\n",
       "                <summary>Parameters</summary>\n",
       "                <table class=\"parameters-table\">\n",
       "                  <tbody>\n",
       "                    \n",
       "        <tr class=\"user-set\">\n",
       "            <td><i class=\"copy-paste-icon\"\n",
       "                 onclick=\"copyToClipboard('n_estimators',\n",
       "                          this.parentElement.nextElementSibling)\"\n",
       "            ></i></td>\n",
       "            <td class=\"param\">n_estimators&nbsp;</td>\n",
       "            <td class=\"value\">200</td>\n",
       "        </tr>\n",
       "    \n",
       "\n",
       "        <tr class=\"default\">\n",
       "            <td><i class=\"copy-paste-icon\"\n",
       "                 onclick=\"copyToClipboard('criterion',\n",
       "                          this.parentElement.nextElementSibling)\"\n",
       "            ></i></td>\n",
       "            <td class=\"param\">criterion&nbsp;</td>\n",
       "            <td class=\"value\">&#x27;gini&#x27;</td>\n",
       "        </tr>\n",
       "    \n",
       "\n",
       "        <tr class=\"default\">\n",
       "            <td><i class=\"copy-paste-icon\"\n",
       "                 onclick=\"copyToClipboard('max_depth',\n",
       "                          this.parentElement.nextElementSibling)\"\n",
       "            ></i></td>\n",
       "            <td class=\"param\">max_depth&nbsp;</td>\n",
       "            <td class=\"value\">None</td>\n",
       "        </tr>\n",
       "    \n",
       "\n",
       "        <tr class=\"default\">\n",
       "            <td><i class=\"copy-paste-icon\"\n",
       "                 onclick=\"copyToClipboard('min_samples_split',\n",
       "                          this.parentElement.nextElementSibling)\"\n",
       "            ></i></td>\n",
       "            <td class=\"param\">min_samples_split&nbsp;</td>\n",
       "            <td class=\"value\">2</td>\n",
       "        </tr>\n",
       "    \n",
       "\n",
       "        <tr class=\"default\">\n",
       "            <td><i class=\"copy-paste-icon\"\n",
       "                 onclick=\"copyToClipboard('min_samples_leaf',\n",
       "                          this.parentElement.nextElementSibling)\"\n",
       "            ></i></td>\n",
       "            <td class=\"param\">min_samples_leaf&nbsp;</td>\n",
       "            <td class=\"value\">1</td>\n",
       "        </tr>\n",
       "    \n",
       "\n",
       "        <tr class=\"default\">\n",
       "            <td><i class=\"copy-paste-icon\"\n",
       "                 onclick=\"copyToClipboard('min_weight_fraction_leaf',\n",
       "                          this.parentElement.nextElementSibling)\"\n",
       "            ></i></td>\n",
       "            <td class=\"param\">min_weight_fraction_leaf&nbsp;</td>\n",
       "            <td class=\"value\">0.0</td>\n",
       "        </tr>\n",
       "    \n",
       "\n",
       "        <tr class=\"default\">\n",
       "            <td><i class=\"copy-paste-icon\"\n",
       "                 onclick=\"copyToClipboard('max_features',\n",
       "                          this.parentElement.nextElementSibling)\"\n",
       "            ></i></td>\n",
       "            <td class=\"param\">max_features&nbsp;</td>\n",
       "            <td class=\"value\">&#x27;sqrt&#x27;</td>\n",
       "        </tr>\n",
       "    \n",
       "\n",
       "        <tr class=\"default\">\n",
       "            <td><i class=\"copy-paste-icon\"\n",
       "                 onclick=\"copyToClipboard('max_leaf_nodes',\n",
       "                          this.parentElement.nextElementSibling)\"\n",
       "            ></i></td>\n",
       "            <td class=\"param\">max_leaf_nodes&nbsp;</td>\n",
       "            <td class=\"value\">None</td>\n",
       "        </tr>\n",
       "    \n",
       "\n",
       "        <tr class=\"default\">\n",
       "            <td><i class=\"copy-paste-icon\"\n",
       "                 onclick=\"copyToClipboard('min_impurity_decrease',\n",
       "                          this.parentElement.nextElementSibling)\"\n",
       "            ></i></td>\n",
       "            <td class=\"param\">min_impurity_decrease&nbsp;</td>\n",
       "            <td class=\"value\">0.0</td>\n",
       "        </tr>\n",
       "    \n",
       "\n",
       "        <tr class=\"default\">\n",
       "            <td><i class=\"copy-paste-icon\"\n",
       "                 onclick=\"copyToClipboard('bootstrap',\n",
       "                          this.parentElement.nextElementSibling)\"\n",
       "            ></i></td>\n",
       "            <td class=\"param\">bootstrap&nbsp;</td>\n",
       "            <td class=\"value\">True</td>\n",
       "        </tr>\n",
       "    \n",
       "\n",
       "        <tr class=\"default\">\n",
       "            <td><i class=\"copy-paste-icon\"\n",
       "                 onclick=\"copyToClipboard('oob_score',\n",
       "                          this.parentElement.nextElementSibling)\"\n",
       "            ></i></td>\n",
       "            <td class=\"param\">oob_score&nbsp;</td>\n",
       "            <td class=\"value\">False</td>\n",
       "        </tr>\n",
       "    \n",
       "\n",
       "        <tr class=\"user-set\">\n",
       "            <td><i class=\"copy-paste-icon\"\n",
       "                 onclick=\"copyToClipboard('n_jobs',\n",
       "                          this.parentElement.nextElementSibling)\"\n",
       "            ></i></td>\n",
       "            <td class=\"param\">n_jobs&nbsp;</td>\n",
       "            <td class=\"value\">-1</td>\n",
       "        </tr>\n",
       "    \n",
       "\n",
       "        <tr class=\"user-set\">\n",
       "            <td><i class=\"copy-paste-icon\"\n",
       "                 onclick=\"copyToClipboard('random_state',\n",
       "                          this.parentElement.nextElementSibling)\"\n",
       "            ></i></td>\n",
       "            <td class=\"param\">random_state&nbsp;</td>\n",
       "            <td class=\"value\">42</td>\n",
       "        </tr>\n",
       "    \n",
       "\n",
       "        <tr class=\"default\">\n",
       "            <td><i class=\"copy-paste-icon\"\n",
       "                 onclick=\"copyToClipboard('verbose',\n",
       "                          this.parentElement.nextElementSibling)\"\n",
       "            ></i></td>\n",
       "            <td class=\"param\">verbose&nbsp;</td>\n",
       "            <td class=\"value\">0</td>\n",
       "        </tr>\n",
       "    \n",
       "\n",
       "        <tr class=\"default\">\n",
       "            <td><i class=\"copy-paste-icon\"\n",
       "                 onclick=\"copyToClipboard('warm_start',\n",
       "                          this.parentElement.nextElementSibling)\"\n",
       "            ></i></td>\n",
       "            <td class=\"param\">warm_start&nbsp;</td>\n",
       "            <td class=\"value\">False</td>\n",
       "        </tr>\n",
       "    \n",
       "\n",
       "        <tr class=\"user-set\">\n",
       "            <td><i class=\"copy-paste-icon\"\n",
       "                 onclick=\"copyToClipboard('class_weight',\n",
       "                          this.parentElement.nextElementSibling)\"\n",
       "            ></i></td>\n",
       "            <td class=\"param\">class_weight&nbsp;</td>\n",
       "            <td class=\"value\">&#x27;balanced&#x27;</td>\n",
       "        </tr>\n",
       "    \n",
       "\n",
       "        <tr class=\"default\">\n",
       "            <td><i class=\"copy-paste-icon\"\n",
       "                 onclick=\"copyToClipboard('ccp_alpha',\n",
       "                          this.parentElement.nextElementSibling)\"\n",
       "            ></i></td>\n",
       "            <td class=\"param\">ccp_alpha&nbsp;</td>\n",
       "            <td class=\"value\">0.0</td>\n",
       "        </tr>\n",
       "    \n",
       "\n",
       "        <tr class=\"default\">\n",
       "            <td><i class=\"copy-paste-icon\"\n",
       "                 onclick=\"copyToClipboard('max_samples',\n",
       "                          this.parentElement.nextElementSibling)\"\n",
       "            ></i></td>\n",
       "            <td class=\"param\">max_samples&nbsp;</td>\n",
       "            <td class=\"value\">None</td>\n",
       "        </tr>\n",
       "    \n",
       "\n",
       "        <tr class=\"default\">\n",
       "            <td><i class=\"copy-paste-icon\"\n",
       "                 onclick=\"copyToClipboard('monotonic_cst',\n",
       "                          this.parentElement.nextElementSibling)\"\n",
       "            ></i></td>\n",
       "            <td class=\"param\">monotonic_cst&nbsp;</td>\n",
       "            <td class=\"value\">None</td>\n",
       "        </tr>\n",
       "    \n",
       "                  </tbody>\n",
       "                </table>\n",
       "            </details>\n",
       "        </div>\n",
       "    </div></div></div></div></div><script>function copyToClipboard(text, element) {\n",
       "    // Get the parameter prefix from the closest toggleable content\n",
       "    const toggleableContent = element.closest('.sk-toggleable__content');\n",
       "    const paramPrefix = toggleableContent ? toggleableContent.dataset.paramPrefix : '';\n",
       "    const fullParamName = paramPrefix ? `${paramPrefix}${text}` : text;\n",
       "\n",
       "    const originalStyle = element.style;\n",
       "    const computedStyle = window.getComputedStyle(element);\n",
       "    const originalWidth = computedStyle.width;\n",
       "    const originalHTML = element.innerHTML.replace('Copied!', '');\n",
       "\n",
       "    navigator.clipboard.writeText(fullParamName)\n",
       "        .then(() => {\n",
       "            element.style.width = originalWidth;\n",
       "            element.style.color = 'green';\n",
       "            element.innerHTML = \"Copied!\";\n",
       "\n",
       "            setTimeout(() => {\n",
       "                element.innerHTML = originalHTML;\n",
       "                element.style = originalStyle;\n",
       "            }, 2000);\n",
       "        })\n",
       "        .catch(err => {\n",
       "            console.error('Failed to copy:', err);\n",
       "            element.style.color = 'red';\n",
       "            element.innerHTML = \"Failed!\";\n",
       "            setTimeout(() => {\n",
       "                element.innerHTML = originalHTML;\n",
       "                element.style = originalStyle;\n",
       "            }, 2000);\n",
       "        });\n",
       "    return false;\n",
       "}\n",
       "\n",
       "document.querySelectorAll('.fa-regular.fa-copy').forEach(function(element) {\n",
       "    const toggleableContent = element.closest('.sk-toggleable__content');\n",
       "    const paramPrefix = toggleableContent ? toggleableContent.dataset.paramPrefix : '';\n",
       "    const paramName = element.parentElement.nextElementSibling.textContent.trim();\n",
       "    const fullParamName = paramPrefix ? `${paramPrefix}${paramName}` : paramName;\n",
       "\n",
       "    element.setAttribute('title', fullParamName);\n",
       "});\n",
       "</script></body>"
      ],
      "text/plain": [
       "RandomForestClassifier(class_weight='balanced', n_estimators=200, n_jobs=-1,\n",
       "                       random_state=42)"
      ]
     },
     "metadata": {},
     "output_type": "display_data"
    }
   ],
   "source": [
    "clf = RandomForestClassifier(\n",
    "    n_estimators=200,\n",
    "    class_weight='balanced', \n",
    "    random_state=42,\n",
    "    n_jobs=-1,\n",
    "    \n",
    ")\n",
    "clf.fit(X_train, y_train)"
   ]
  },
  {
   "cell_type": "markdown",
   "id": "66d21026",
   "metadata": {},
   "source": [
    "#### 5.2.4 Avaliação do modelo"
   ]
  },
  {
   "cell_type": "markdown",
   "id": "ee64dc0e",
   "metadata": {},
   "source": [
    "Após o treino da base, precisamos validar a precisão do nosso modelo em classifica candidatos:\n",
    "\n",
    "* Aprovados (1) \n",
    "* Reprovados (0) "
   ]
  },
  {
   "cell_type": "code",
   "execution_count": null,
   "id": "43f5f583",
   "metadata": {},
   "outputs": [
    {
     "name": "stdout",
     "output_type": "stream",
     "text": [
      "\n",
      "Relatório de classificação:\n",
      "              precision    recall  f1-score   support\n",
      "\n",
      "           0       0.96      0.87      0.92     10113\n",
      "           1       0.19      0.47      0.27       639\n",
      "\n",
      "    accuracy                           0.85     10752\n",
      "   macro avg       0.58      0.67      0.59     10752\n",
      "weighted avg       0.92      0.85      0.88     10752\n",
      "\n",
      "\n",
      "AUC ROC: 0.725118833240718\n",
      "\n",
      "Matriz de confusão:\n",
      "[[8835 1278]\n",
      " [ 337  302]]\n"
     ]
    },
    {
     "data": {
      "image/png": "[encoded data removed]",
      "text/plain": [
       "<Figure size 600x400 with 1 Axes>"
      ]
     },
     "metadata": {},
     "output_type": "display_data"
    }
   ],
   "source": [
    "y_pred = clf.predict(X_test)\n",
    "y_proba = clf.predict_proba(X_test)[:, 1]\n",
    "\n",
    "print(\"\\nRelatório de classificação:\")\n",
    "print(classification_report(y_test, y_pred, digits=2))\n",
    "\n",
    "print(\"\\nAUC ROC:\", roc_auc_score(y_test, y_proba))\n",
    "\n",
    "print(\"\\nMatriz de confusão:\")\n",
    "print(confusion_matrix(y_test, y_pred))\n",
    "\n",
    "# Curva ROC\n",
    "fpr, tpr, thresholds = roc_curve(y_test, y_proba)\n",
    "plt.figure(figsize=(6,4))\n",
    "plt.plot(fpr, tpr, label=f'AUC = {roc_auc_score(y_test, y_proba):.3f}')\n",
    "plt.plot([0,1],[0,1],'--',color='grey')\n",
    "plt.title('Curva ROC')\n",
    "plt.xlabel('False Positive Rate')\n",
    "plt.ylabel('True Positive Rate')\n",
    "plt.legend()\n",
    "plt.show()"
   ]
  },
  {
   "cell_type": "markdown",
   "id": "963a20bf",
   "metadata": {},
   "source": [
    "##### 5.2.5 Análise do resultado do Modelo\n",
    "\n",
    "Conforme o resultado do modelo, verificamos:\n",
    "\n",
    "- **Alta precisão para identificar candidatos reprovados (`0`)**:  \n",
    "  - *Precision*: **0.96**\n",
    "- **Baixa performance para classificar candidatos aprovados (`1`)**:  \n",
    "  - *Precision*: **0.19**\n",
    "\n",
    "O resultado **AUC ROC** foi **0.725**, considerado razoável, mas ainda há espaço para melhorias no modelo.\n",
    "\n",
    "#### Relatório de Classificação\n",
    "\n",
    "| Classe | Precision | Recall | F1-score | Suporte |\n",
    "|--------|-----------|--------|----------|---------|\n",
    "| **0** (Reprovado) | 0.96 | 0.87 | 0.92 | 10.113 |\n",
    "| **1** (Aprovado)  | 0.19 | 0.47 | 0.27 |   639  |\n",
    "\n",
    "**Acurácia geral:** **0.85** (10.752 amostras)\n",
    "\n",
    "**Observação:** Temos scores de Acurácia e AUC Roc relatavimente elevados, em consequencia da precisão na classificação de candidatos reprovados, o que neste caso não faz correlação direta com eficiencia geral do modelo.\n",
    "\n",
    "---"
   ]
  },
  {
   "cell_type": "markdown",
   "id": "fb9a036e",
   "metadata": {},
   "source": [
    "### 5.3 Análise de Features"
   ]
  },
  {
   "cell_type": "markdown",
   "id": "53c8249b",
   "metadata": {},
   "source": [
    "Para entendermos a \"importancia\" de cada feature, vamos analisar o schore que o modelo clf atribuiu para cada feature."
   ]
  },
  {
   "cell_type": "markdown",
   "id": "b094fc99",
   "metadata": {},
   "source": [
    "#### 5.3.1 Lista de features"
   ]
  },
  {
   "cell_type": "code",
   "execution_count": null,
   "id": "c7b5769c",
   "metadata": {},
   "outputs": [
    {
     "name": "stdout",
     "output_type": "stream",
     "text": [
      "\n",
      "Importância das features (top 10):\n",
      "score_matching_skills                      0.112211\n",
      "vaga_nivel_ingles_vaga_Nenhum              0.079048\n",
      "vaga_areas_atuacao_vaga_TI - Projetos-     0.061354\n",
      "vaga_areas_atuacao_vaga_Administrativa-    0.046802\n",
      "similaridade_cv_vaga_bin_1                 0.039968\n",
      "vaga_nivel_profissional_vaga_Sênior        0.039683\n",
      "vaga_nivel_espanhol_vaga_Nenhum            0.036964\n",
      "vaga_nivel_espanhol_vaga_Básico            0.034557\n",
      "vaga_nivel_profissional_vaga_Pleno         0.030139\n",
      "vaga_nivel_ingles_vaga_Básico              0.029560\n",
      "dtype: float64\n"
     ]
    },
    {
     "data": {
      "image/png": "[encoded data removed]",
      "text/plain": [
       "<Figure size 640x480 with 1 Axes>"
      ]
     },
     "metadata": {},
     "output_type": "display_data"
    }
   ],
   "source": [
    "importances = pd.Series(clf.feature_importances_, index=X_enc.columns).sort_values(ascending=False)\n",
    "print(\"\\nImportância das features (top 10):\")\n",
    "print(importances.head(10))\n",
    "importances.head(10).plot(kind='barh', title='Importância das principais features')\n",
    "plt.show()"
   ]
  },
  {
   "cell_type": "markdown",
   "id": "4dd990a1",
   "metadata": {},
   "source": [
    "##### 5.3.2 Análise de score de features\n",
    "\n",
    "Como mostra o gráfico acima, identificamos que o modelo atribui um peso maior às features relacionadas ao score_matching_skills, o que faz sentido, já que as vagas possuem pré-requisitos técnicos específicos.\n",
    "\n",
    "O modelo pondera de forma lógica sobre as features técnicas.\n",
    "Portanto, a oportunidade de ajuste está mais relacionada à escolha da métrica de avaliação do que ao peso das features em si."
   ]
  },
  {
   "cell_type": "markdown",
   "id": "ce6c6f57",
   "metadata": {},
   "source": [
    "### 5.4 Ajuste de threshold do modelo"
   ]
  },
  {
   "cell_type": "markdown",
   "id": "59a4668c",
   "metadata": {},
   "source": [
    "O critério padrão do modelo para categorização de candidatos aprovados não demonstrou precisão satisfatória para a base analisada.\n",
    "\n",
    "Após testarmos o modelo, verificamos que ao aumentar o threshold de análise para 0.83, houve um ganho considerável na precisão da aprovação de candidatos"
   ]
  },
  {
   "cell_type": "code",
   "execution_count": null,
   "id": "f829093d",
   "metadata": {},
   "outputs": [
    {
     "name": "stdout",
     "output_type": "stream",
     "text": [
      "Melhor threshold para maior F1: 0.83\n",
      "Precision: 0.479, Recall: 0.263, F1: 0.339\n"
     ]
    },
    {
     "data": {
      "image/png": "[encoded data removed]",
      "text/plain": [
       "<Figure size 800x500 with 1 Axes>"
      ]
     },
     "metadata": {},
     "output_type": "display_data"
    },
    {
     "name": "stdout",
     "output_type": "stream",
     "text": [
      "\n",
      "Relatório com threshold customizado:\n",
      "              precision    recall  f1-score   support\n",
      "\n",
      "           0      0.955     0.982     0.968     10113\n",
      "           1      0.479     0.263     0.339       639\n",
      "\n",
      "    accuracy                          0.939     10752\n",
      "   macro avg      0.717     0.622     0.654     10752\n",
      "weighted avg      0.926     0.939     0.931     10752\n",
      "\n",
      "[[9930  183]\n",
      " [ 471  168]]\n"
     ]
    }
   ],
   "source": [
    "precisions, recalls, thresholds = precision_recall_curve(y_test, y_proba)\n",
    "\n",
    "f1s = 2 * (precisions * recalls) / (precisions + recalls + 1e-8)\n",
    "\n",
    "best_idx = np.argmax(f1s)\n",
    "best_threshold = thresholds[best_idx]\n",
    "print(f'Melhor threshold para maior F1: {best_threshold:.2f}')\n",
    "print(f'Precision: {precisions[best_idx]:.3f}, Recall: {recalls[best_idx]:.3f}, F1: {f1s[best_idx]:.3f}')\n",
    "\n",
    "plt.figure(figsize=(8, 5))\n",
    "plt.plot(thresholds, precisions[:-1], label='Precision')\n",
    "plt.plot(thresholds, recalls[:-1], label='Recall')\n",
    "plt.plot(thresholds, f1s[:-1], label='F1-score')\n",
    "plt.axvline(best_threshold, color='red', linestyle='--', label=f'Best Threshold ({best_threshold:.2f})')\n",
    "plt.xlabel('Threshold')\n",
    "plt.ylabel('Score')\n",
    "plt.title('Precision, Recall e F1-score por Threshold')\n",
    "plt.legend()\n",
    "plt.show()\n",
    "\n",
    "y_pred_custom = (y_proba >= best_threshold).astype(int)\n",
    "print(\"\\nRelatório com threshold customizado:\")\n",
    "print(classification_report(y_test, y_pred_custom, digits=3))\n",
    "print(confusion_matrix(y_test, y_pred_custom))"
   ]
  },
  {
   "cell_type": "markdown",
   "id": "ce2ad9c9",
   "metadata": {},
   "source": [
    "A precisão para a classe **\"Aprovado\" (1)** subiu de **0.19 (19%)** para **0.48 (48%)**, uma grande melhoria.  \n",
    "Além disso, a métrica de **\"alarmes falsos\" (Falsos Positivos)** caiu de **1278** para apenas **183**.\n",
    "\n",
    "**Melhor threshold para maior F1:** `0.83`  \n",
    "**Precision:** `0.479`  \n",
    "**Recall:** `0.263`  \n",
    "**F1:** `0.339`\n",
    "\n",
    "#### Relatório com threshold customizado\n",
    "\n",
    "| Classe | Precision | Recall | F1-score | Suporte |\n",
    "|--------|-----------|--------|----------|---------|\n",
    "| **0**  | 0.955     | 0.982  | 0.968    | 10113   |\n",
    "| **1**  | 0.479     | 0.263  | 0.339    | 639     |\n",
    "\n",
    "**Acurácia geral:** `0.939` (10.752 amostras)  \n",
    "**Macro avg:** Precision `0.717` | Recall `0.622` | F1-score `0.654`  \n",
    "**Weighted avg:** Precision `0.926` | Recall `0.939` | F1-score `0.931`\n"
   ]
  },
  {
   "cell_type": "markdown",
   "id": "827b3b08",
   "metadata": {},
   "source": [
    "### 5.5 Ajustando para o threshold identificado como ideal"
   ]
  },
  {
   "cell_type": "code",
   "execution_count": null,
   "id": "bffc1a75",
   "metadata": {},
   "outputs": [
    {
     "name": "stdout",
     "output_type": "stream",
     "text": [
      "              precision    recall  f1-score   support\n",
      "\n",
      "           0      0.955     0.982     0.968     10113\n",
      "           1      0.479     0.263     0.339       639\n",
      "\n",
      "    accuracy                          0.939     10752\n",
      "   macro avg      0.717     0.622     0.654     10752\n",
      "weighted avg      0.926     0.939     0.931     10752\n",
      "\n",
      "Matriz do confuso:\n",
      "[[9930  183]\n",
      " [ 471  168]]\n"
     ]
    }
   ],
   "source": [
    "# usa o primeiro se quiser o original, se não o clf.predict_proba\n",
    "#y_pred = clf.predict(X_test)\n",
    "y_proba = clf.predict_proba(X_test)[:, 1]\n",
    "threshold = best_threshold\n",
    "\n",
    "y_pred = (y_proba >= threshold).astype(int)\n",
    "\n",
    "print(classification_report(y_test, y_pred, digits=3))\n",
    "print(\"Matriz do confuso:\")\n",
    "print(confusion_matrix(y_test, y_pred))"
   ]
  },
  {
   "cell_type": "markdown",
   "id": "5f018d2d",
   "metadata": {},
   "source": [
    "Utilizamos ajuste de threshold para maximizar o F1-score, obtendo um equilíbrio prático entre precision e recall para a predição de contratações. O threshold ótimo permitiu identificar contratados com uma precisão boa, mesmo em um cenário de forte desbalanceamento, mostrando que o modelo pode ser ajustado conforme a estratégia do negócio — seja priorizando recall (acertar mais contratados) ou precision (evitar falsos positivos)."
   ]
  },
  {
   "cell_type": "markdown",
   "id": "ee774c6f",
   "metadata": {},
   "source": [
    "## 6. Exportar o modelo"
   ]
  },
  {
   "cell_type": "code",
   "execution_count": null,
   "id": "f86f4ea9",
   "metadata": {},
   "outputs": [],
   "source": [
    "if MODO_LOCAL:\n",
    "    joblib.dump(clf, 'modelo_rf.pkl')\n",
    "    X_train_enc = pd.get_dummies(X_train)\n",
    "    with open('features.pkl', 'wb') as f:\n",
    "        pickle.dump(list(X_train_enc.columns), f)\n",
    "    importances = clf.feature_importances_\n",
    "    with open('importances.pkl', 'wb') as f:\n",
    "        pickle.dump(importances, f)\n",
    "\n",
    "else:\n",
    "    joblib.dump(clf, 'modelo_rf_light.pkl')\n",
    "    X_train_enc = pd.get_dummies(X_train)\n",
    "    with open('features_light.pkl', 'wb') as f:\n",
    "        pickle.dump(list(X_train_enc.columns), f)\n",
    "    importances = clf.feature_importances_\n",
    "    with open('importances_light.pkl', 'wb') as f:\n",
    "        pickle.dump(importances, f)"
   ]
  },
  {
   "cell_type": "code",
   "execution_count": null,
   "id": "d2e84a7f",
   "metadata": {},
   "outputs": [],
   "source": [
    "threshold_otimo = best_threshold\n",
    "with open('threshold.txt', 'w') as f:\n",
    "    f.write(str(threshold_otimo))"
   ]
  }
 ],
 "metadata": {
  "language_info": {
   "name": "python"
  }
 },
 "nbformat": 4,
 "nbformat_minor": 5
}
